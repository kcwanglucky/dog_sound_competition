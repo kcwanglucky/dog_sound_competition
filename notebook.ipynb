{
 "cells": [
  {
   "cell_type": "code",
   "execution_count": 1,
   "id": "0c12802d",
   "metadata": {},
   "outputs": [],
   "source": [
    "import pandas as pd\n",
    "import numpy as np\n",
    "import os\n",
    "import matplotlib.pyplot as plt\n",
    "import torch\n",
    "from torch import nn\n",
    "import torchaudio\n",
    "from torchaudio import transforms\n",
    "from torch.utils.data import Dataset, DataLoader\n",
    "from IPython.display import Audio, display\n",
    "\n",
    "from sklearn.metrics import roc_auc_score\n",
    "from torch.utils.data import random_split"
   ]
  },
  {
   "cell_type": "code",
   "execution_count": 2,
   "id": "09ce373f",
   "metadata": {},
   "outputs": [],
   "source": [
    "from utils import *\n",
    "from audio_classifier import *\n",
    "from config import path_config"
   ]
  },
  {
   "cell_type": "code",
   "execution_count": 3,
   "metadata": {},
   "outputs": [],
   "source": [
    "train_audio_path = path_config[\"train_audio_path\"]\n",
    "metadata = pd.read_csv(\"./train/meta_train.csv\")\n",
    "\n",
    "x_summary = explore_x(train_audio_path)\n",
    "y_summary = explore_y(metadata, False)"
   ]
  },
  {
   "cell_type": "code",
   "execution_count": 4,
   "metadata": {},
   "outputs": [],
   "source": [
    "data = data_cleaning(train_audio_path, x_summary[\"waveform_shape\"], metadata)"
   ]
  },
  {
   "cell_type": "code",
   "execution_count": 25,
   "metadata": {},
   "outputs": [],
   "source": [
    "audio_dataset = AudioDataset(train_audio_path, data[\"x_file_paths\"], y=data[\"y\"],   label_name=configs[\"label_config\"][\"label_name\"])"
   ]
  },
  {
   "cell_type": "code",
   "execution_count": 511,
   "metadata": {},
   "outputs": [],
   "source": [
    "data = data_split(audio_dataset)"
   ]
  },
  {
   "cell_type": "code",
   "execution_count": 514,
   "metadata": {},
   "outputs": [
    {
     "output_type": "stream",
     "name": "stdout",
     "text": [
      "Using cpu device\n",
      "AudioClassifier(\n",
      "  (conv1): Conv2d(1, 8, kernel_size=(5, 5), stride=(2, 2), padding=(2, 2))\n",
      "  (relu1): ReLU()\n",
      "  (bn1): BatchNorm2d(8, eps=1e-05, momentum=0.1, affine=True, track_running_stats=True)\n",
      "  (conv2): Conv2d(8, 16, kernel_size=(3, 3), stride=(2, 2), padding=(1, 1))\n",
      "  (relu2): ReLU()\n",
      "  (bn2): BatchNorm2d(16, eps=1e-05, momentum=0.1, affine=True, track_running_stats=True)\n",
      "  (conv): Sequential(\n",
      "    (0): Conv2d(1, 8, kernel_size=(5, 5), stride=(2, 2), padding=(2, 2))\n",
      "    (1): ReLU()\n",
      "    (2): BatchNorm2d(8, eps=1e-05, momentum=0.1, affine=True, track_running_stats=True)\n",
      "    (3): Conv2d(8, 16, kernel_size=(3, 3), stride=(2, 2), padding=(1, 1))\n",
      "    (4): ReLU()\n",
      "    (5): BatchNorm2d(16, eps=1e-05, momentum=0.1, affine=True, track_running_stats=True)\n",
      "  )\n",
      "  (pooling): AdaptiveAvgPool2d(output_size=1)\n",
      "  (linear): Linear(in_features=16, out_features=6, bias=True)\n",
      ")\n",
      "Epoch 1 Batch 1 Result\n",
      "\tLoss: 1.772\n",
      "Epoch 1 Batch 11 Result\n",
      "\tLoss: 1.814\n",
      "Epoch 1 Batch 21 Result\n",
      "\tLoss: 1.818\n",
      "Epoch: 1\n",
      "Train Stats:\n",
      "\tLoss: 1.82, Accuracy: 0.18\n",
      "Validation Stats:\n",
      "\tLoss: 0.06, Accuracy: 0.18, Auc: 0.52\n",
      "Epoch 2 Batch 1 Result\n",
      "\tLoss: 1.725\n",
      "Epoch 2 Batch 11 Result\n",
      "\tLoss: 1.798\n",
      "Epoch 2 Batch 21 Result\n",
      "\tLoss: 1.781\n",
      "Epoch: 2\n",
      "Train Stats:\n",
      "\tLoss: 1.78, Accuracy: 0.23\n",
      "Validation Stats:\n",
      "\tLoss: 0.06, Accuracy: 0.21, Auc: 0.63\n",
      "Epoch 3 Batch 1 Result\n",
      "\tLoss: 1.738\n",
      "Epoch 3 Batch 11 Result\n",
      "\tLoss: 1.737\n",
      "Epoch 3 Batch 21 Result\n",
      "\tLoss: 1.727\n",
      "Epoch: 3\n",
      "Train Stats:\n",
      "\tLoss: 1.72, Accuracy: 0.28\n",
      "Validation Stats:\n",
      "\tLoss: 0.06, Accuracy: 0.28, Auc: 0.71\n",
      "Epoch 4 Batch 1 Result\n",
      "\tLoss: 1.709\n",
      "Epoch 4 Batch 11 Result\n",
      "\tLoss: 1.674\n",
      "Epoch 4 Batch 21 Result\n",
      "\tLoss: 1.661\n",
      "Epoch: 4\n",
      "Train Stats:\n",
      "\tLoss: 1.64, Accuracy: 0.34\n",
      "Validation Stats:\n",
      "\tLoss: 0.05, Accuracy: 0.33, Auc: 0.75\n",
      "Epoch 5 Batch 1 Result\n",
      "\tLoss: 1.573\n",
      "Epoch 5 Batch 11 Result\n",
      "\tLoss: 1.603\n",
      "Epoch 5 Batch 21 Result\n",
      "\tLoss: 1.582\n",
      "Epoch: 5\n",
      "Train Stats:\n",
      "\tLoss: 1.57, Accuracy: 0.38\n",
      "Validation Stats:\n",
      "\tLoss: 0.05, Accuracy: 0.34, Auc: 0.77\n",
      "Epoch 6 Batch 1 Result\n",
      "\tLoss: 1.517\n",
      "Epoch 6 Batch 11 Result\n",
      "\tLoss: 1.518\n",
      "Epoch 6 Batch 21 Result\n",
      "\tLoss: 1.511\n",
      "Epoch: 6\n",
      "Train Stats:\n",
      "\tLoss: 1.51, Accuracy: 0.40\n",
      "Validation Stats:\n",
      "\tLoss: 0.05, Accuracy: 0.36, Auc: 0.79\n",
      "Epoch 7 Batch 1 Result\n",
      "\tLoss: 1.448\n",
      "Epoch 7 Batch 11 Result\n",
      "\tLoss: 1.495\n",
      "Epoch 7 Batch 21 Result\n",
      "\tLoss: 1.470\n",
      "Epoch: 7\n",
      "Train Stats:\n",
      "\tLoss: 1.46, Accuracy: 0.43\n",
      "Validation Stats:\n",
      "\tLoss: 0.05, Accuracy: 0.38, Auc: 0.81\n",
      "Epoch 8 Batch 1 Result\n",
      "\tLoss: 1.426\n",
      "Epoch 8 Batch 11 Result\n",
      "\tLoss: 1.420\n",
      "Epoch 8 Batch 21 Result\n",
      "\tLoss: 1.418\n",
      "Epoch: 8\n",
      "Train Stats:\n",
      "\tLoss: 1.42, Accuracy: 0.42\n",
      "Validation Stats:\n",
      "\tLoss: 0.05, Accuracy: 0.40, Auc: 0.82\n",
      "Epoch 9 Batch 1 Result\n",
      "\tLoss: 1.225\n",
      "Epoch 9 Batch 11 Result\n",
      "\tLoss: 1.381\n",
      "Epoch 9 Batch 21 Result\n",
      "\tLoss: 1.367\n",
      "Epoch: 9\n",
      "Train Stats:\n",
      "\tLoss: 1.39, Accuracy: 0.44\n",
      "Validation Stats:\n",
      "\tLoss: 0.05, Accuracy: 0.41, Auc: 0.82\n",
      "Epoch 10 Batch 1 Result\n",
      "\tLoss: 1.451\n",
      "Epoch 10 Batch 11 Result\n",
      "\tLoss: 1.382\n",
      "Epoch 10 Batch 21 Result\n",
      "\tLoss: 1.379\n",
      "Epoch: 10\n",
      "Train Stats:\n",
      "\tLoss: 1.37, Accuracy: 0.46\n",
      "Validation Stats:\n",
      "\tLoss: 0.05, Accuracy: 0.43, Auc: 0.83\n",
      "Epoch 11 Batch 1 Result\n",
      "\tLoss: 1.441\n",
      "Epoch 11 Batch 11 Result\n",
      "\tLoss: 1.386\n",
      "Epoch 11 Batch 21 Result\n",
      "\tLoss: 1.348\n",
      "Epoch: 11\n",
      "Train Stats:\n",
      "\tLoss: 1.34, Accuracy: 0.46\n",
      "Validation Stats:\n",
      "\tLoss: 0.05, Accuracy: 0.45, Auc: 0.84\n",
      "Epoch 12 Batch 1 Result\n",
      "\tLoss: 1.255\n",
      "Epoch 12 Batch 11 Result\n",
      "\tLoss: 1.325\n",
      "Epoch 12 Batch 21 Result\n",
      "\tLoss: 1.321\n",
      "Epoch: 12\n",
      "Train Stats:\n",
      "\tLoss: 1.32, Accuracy: 0.47\n",
      "Validation Stats:\n",
      "\tLoss: 0.05, Accuracy: 0.46, Auc: 0.84\n",
      "Epoch 13 Batch 1 Result\n",
      "\tLoss: 1.299\n",
      "Epoch 13 Batch 11 Result\n",
      "\tLoss: 1.301\n",
      "Epoch 13 Batch 21 Result\n",
      "\tLoss: 1.317\n",
      "Epoch: 13\n",
      "Train Stats:\n",
      "\tLoss: 1.31, Accuracy: 0.48\n",
      "Validation Stats:\n",
      "\tLoss: 0.05, Accuracy: 0.46, Auc: 0.84\n",
      "Epoch 14 Batch 1 Result\n",
      "\tLoss: 1.255\n",
      "Epoch 14 Batch 11 Result\n",
      "\tLoss: 1.313\n",
      "Epoch 14 Batch 21 Result\n",
      "\tLoss: 1.315\n",
      "Epoch: 14\n",
      "Train Stats:\n",
      "\tLoss: 1.31, Accuracy: 0.49\n",
      "Validation Stats:\n",
      "\tLoss: 0.04, Accuracy: 0.46, Auc: 0.85\n",
      "Epoch 15 Batch 1 Result\n",
      "\tLoss: 1.197\n",
      "Epoch 15 Batch 11 Result\n",
      "\tLoss: 1.277\n",
      "Epoch 15 Batch 21 Result\n",
      "\tLoss: 1.286\n",
      "Epoch: 15\n",
      "Train Stats:\n",
      "\tLoss: 1.31, Accuracy: 0.48\n",
      "Validation Stats:\n",
      "\tLoss: 0.04, Accuracy: 0.47, Auc: 0.84\n",
      "Finished Training\n"
     ]
    }
   ],
   "source": [
    "train(data, len(y_summary[\"label\"]))"
   ]
  },
  {
   "cell_type": "code",
   "execution_count": 57,
   "metadata": {},
   "outputs": [],
   "source": [
    "pred = pd.read_csv(\"pred/05312318/pred.csv\")"
   ]
  },
  {
   "cell_type": "code",
   "execution_count": 58,
   "metadata": {},
   "outputs": [],
   "source": [
    "columns = pred.columns[1:]"
   ]
  },
  {
   "cell_type": "code",
   "execution_count": 59,
   "metadata": {},
   "outputs": [],
   "source": [
    "mapping = {col: i for i, col in enumerate(columns)}"
   ]
  },
  {
   "cell_type": "code",
   "execution_count": 60,
   "metadata": {},
   "outputs": [
    {
     "output_type": "execute_result",
     "data": {
      "text/plain": [
       "{'Barking': 0,\n",
       " 'Howling': 1,\n",
       " 'Crying': 2,\n",
       " 'COSmoke': 3,\n",
       " 'GlassBreaking': 4,\n",
       " 'Other': 5}"
      ]
     },
     "metadata": {},
     "execution_count": 60
    }
   ],
   "source": [
    "mapping"
   ]
  },
  {
   "cell_type": "code",
   "execution_count": 63,
   "metadata": {},
   "outputs": [
    {
     "output_type": "execute_result",
     "data": {
      "text/plain": [
       "       Filename   Barking   Howling    Crying       COSmoke  GlassBreaking  \\\n",
       "0  public_00001  0.000466  0.001547  0.000397  4.500583e-03   1.187654e-03   \n",
       "1  public_00002  0.001016  0.000007  0.002186  9.833624e-01   2.775309e-05   \n",
       "2  public_00003  0.999452  0.000066  0.000010  2.325940e-05   4.218162e-04   \n",
       "3  public_00004  0.027513  0.007098  0.042159  2.054061e-03   8.741018e-01   \n",
       "4  public_00005  0.890982  0.088820  0.020198  1.473256e-09   4.439293e-08   \n",
       "\n",
       "          Other          Label  \n",
       "0  9.919018e-01          Other  \n",
       "1  1.340017e-02        COSmoke  \n",
       "2  2.695161e-05        Barking  \n",
       "3  4.707367e-02  GlassBreaking  \n",
       "4  3.205598e-09        Barking  "
      ],
      "text/html": "<div>\n<style scoped>\n    .dataframe tbody tr th:only-of-type {\n        vertical-align: middle;\n    }\n\n    .dataframe tbody tr th {\n        vertical-align: top;\n    }\n\n    .dataframe thead th {\n        text-align: right;\n    }\n</style>\n<table border=\"1\" class=\"dataframe\">\n  <thead>\n    <tr style=\"text-align: right;\">\n      <th></th>\n      <th>Filename</th>\n      <th>Barking</th>\n      <th>Howling</th>\n      <th>Crying</th>\n      <th>COSmoke</th>\n      <th>GlassBreaking</th>\n      <th>Other</th>\n      <th>Label</th>\n    </tr>\n  </thead>\n  <tbody>\n    <tr>\n      <th>0</th>\n      <td>public_00001</td>\n      <td>0.000466</td>\n      <td>0.001547</td>\n      <td>0.000397</td>\n      <td>4.500583e-03</td>\n      <td>1.187654e-03</td>\n      <td>9.919018e-01</td>\n      <td>Other</td>\n    </tr>\n    <tr>\n      <th>1</th>\n      <td>public_00002</td>\n      <td>0.001016</td>\n      <td>0.000007</td>\n      <td>0.002186</td>\n      <td>9.833624e-01</td>\n      <td>2.775309e-05</td>\n      <td>1.340017e-02</td>\n      <td>COSmoke</td>\n    </tr>\n    <tr>\n      <th>2</th>\n      <td>public_00003</td>\n      <td>0.999452</td>\n      <td>0.000066</td>\n      <td>0.000010</td>\n      <td>2.325940e-05</td>\n      <td>4.218162e-04</td>\n      <td>2.695161e-05</td>\n      <td>Barking</td>\n    </tr>\n    <tr>\n      <th>3</th>\n      <td>public_00004</td>\n      <td>0.027513</td>\n      <td>0.007098</td>\n      <td>0.042159</td>\n      <td>2.054061e-03</td>\n      <td>8.741018e-01</td>\n      <td>4.707367e-02</td>\n      <td>GlassBreaking</td>\n    </tr>\n    <tr>\n      <th>4</th>\n      <td>public_00005</td>\n      <td>0.890982</td>\n      <td>0.088820</td>\n      <td>0.020198</td>\n      <td>1.473256e-09</td>\n      <td>4.439293e-08</td>\n      <td>3.205598e-09</td>\n      <td>Barking</td>\n    </tr>\n  </tbody>\n</table>\n</div>"
     },
     "metadata": {},
     "execution_count": 63
    }
   ],
   "source": [
    "pred.head()"
   ]
  },
  {
   "cell_type": "code",
   "execution_count": 62,
   "metadata": {},
   "outputs": [],
   "source": [
    "pred[\"Label\"] = pred.iloc[:10,1:].idxmax(axis=1, skipna=True)"
   ]
  },
  {
   "cell_type": "code",
   "execution_count": 13,
   "metadata": {},
   "outputs": [],
   "source": [
    "audio_dataset = AudioDataset(train_audio_path, data[\"x_file_paths\"], configs[\"preprocess_config\"])"
   ]
  },
  {
   "cell_type": "code",
   "execution_count": 14,
   "metadata": {},
   "outputs": [
    {
     "output_type": "execute_result",
     "data": {
      "text/plain": [
       "AudioClassifier(\n",
       "  (conv1): Conv2d(1, 8, kernel_size=(5, 5), stride=(2, 2), padding=(2, 2))\n",
       "  (relu1): ReLU()\n",
       "  (bn1): BatchNorm2d(8, eps=1e-05, momentum=0.1, affine=True, track_running_stats=True)\n",
       "  (conv2): Conv2d(8, 16, kernel_size=(3, 3), stride=(2, 2), padding=(1, 1))\n",
       "  (relu2): ReLU()\n",
       "  (bn2): BatchNorm2d(16, eps=1e-05, momentum=0.1, affine=True, track_running_stats=True)\n",
       "  (conv3): Conv2d(16, 32, kernel_size=(3, 3), stride=(2, 2), padding=(1, 1))\n",
       "  (relu3): ReLU()\n",
       "  (bn3): BatchNorm2d(32, eps=1e-05, momentum=0.1, affine=True, track_running_stats=True)\n",
       "  (conv4): Conv2d(32, 32, kernel_size=(3, 3), stride=(2, 2), padding=(1, 1))\n",
       "  (relu4): ReLU()\n",
       "  (bn4): BatchNorm2d(32, eps=1e-05, momentum=0.1, affine=True, track_running_stats=True)\n",
       "  (conv): Sequential(\n",
       "    (0): Conv2d(1, 8, kernel_size=(5, 5), stride=(2, 2), padding=(2, 2))\n",
       "    (1): ReLU()\n",
       "    (2): BatchNorm2d(8, eps=1e-05, momentum=0.1, affine=True, track_running_stats=True)\n",
       "    (3): Conv2d(8, 16, kernel_size=(3, 3), stride=(2, 2), padding=(1, 1))\n",
       "    (4): ReLU()\n",
       "    (5): BatchNorm2d(16, eps=1e-05, momentum=0.1, affine=True, track_running_stats=True)\n",
       "    (6): Conv2d(16, 32, kernel_size=(3, 3), stride=(2, 2), padding=(1, 1))\n",
       "    (7): ReLU()\n",
       "    (8): BatchNorm2d(32, eps=1e-05, momentum=0.1, affine=True, track_running_stats=True)\n",
       "    (9): Conv2d(32, 32, kernel_size=(3, 3), stride=(2, 2), padding=(1, 1))\n",
       "    (10): ReLU()\n",
       "    (11): BatchNorm2d(32, eps=1e-05, momentum=0.1, affine=True, track_running_stats=True)\n",
       "  )\n",
       "  (pooling): AdaptiveAvgPool2d(output_size=1)\n",
       "  (linear): Linear(in_features=32, out_features=6, bias=True)\n",
       ")"
      ]
     },
     "metadata": {},
     "execution_count": 14
    }
   ],
   "source": [
    "# Load Model\n",
    "model = AudioClassifier(6, configs[\"model_config\"])\n",
    "model.load_state_dict(torch.load(\"model/05312318/model.pt\"))\n",
    "model.eval()"
   ]
  },
  {
   "cell_type": "code",
   "execution_count": 15,
   "metadata": {},
   "outputs": [],
   "source": [
    "dataloader = DataLoader(audio_dataset, batch_size=configs[\"data_config\"][\"test_batch_size\"],\n",
    "                        shuffle=False, num_workers=0)"
   ]
  },
  {
   "cell_type": "code",
   "execution_count": 18,
   "metadata": {},
   "outputs": [
    {
     "output_type": "stream",
     "name": "stdout",
     "text": [
      "Test starts\n"
     ]
    }
   ],
   "source": [
    "ret = validation_loop(dataloader, model, val=False)"
   ]
  },
  {
   "cell_type": "code",
   "execution_count": 19,
   "metadata": {},
   "outputs": [
    {
     "output_type": "stream",
     "name": "stdout",
     "text": [
      "[1 5 5 ... 2 2 1]\n"
     ]
    }
   ],
   "source": [
    "print(ret[\"pred\"])"
   ]
  },
  {
   "cell_type": "code",
   "execution_count": 25,
   "metadata": {},
   "outputs": [
    {
     "output_type": "execute_result",
     "data": {
      "text/plain": [
       "         Filename  Label   Remark\n",
       "0     train_00001      0  Barking\n",
       "1     train_00002      0  Barking\n",
       "2     train_00003      0  Barking\n",
       "3     train_00004      0  Barking\n",
       "4     train_00005      0  Barking\n",
       "...           ...    ...      ...\n",
       "1195  train_01196      5   Dishes\n",
       "1196  train_01197      5   Dishes\n",
       "1197  train_01198      5   Dishes\n",
       "1198  train_01199      5   Dishes\n",
       "1199  train_01200      5   Dishes\n",
       "\n",
       "[1200 rows x 3 columns]"
      ],
      "text/html": "<div>\n<style scoped>\n    .dataframe tbody tr th:only-of-type {\n        vertical-align: middle;\n    }\n\n    .dataframe tbody tr th {\n        vertical-align: top;\n    }\n\n    .dataframe thead th {\n        text-align: right;\n    }\n</style>\n<table border=\"1\" class=\"dataframe\">\n  <thead>\n    <tr style=\"text-align: right;\">\n      <th></th>\n      <th>Filename</th>\n      <th>Label</th>\n      <th>Remark</th>\n    </tr>\n  </thead>\n  <tbody>\n    <tr>\n      <th>0</th>\n      <td>train_00001</td>\n      <td>0</td>\n      <td>Barking</td>\n    </tr>\n    <tr>\n      <th>1</th>\n      <td>train_00002</td>\n      <td>0</td>\n      <td>Barking</td>\n    </tr>\n    <tr>\n      <th>2</th>\n      <td>train_00003</td>\n      <td>0</td>\n      <td>Barking</td>\n    </tr>\n    <tr>\n      <th>3</th>\n      <td>train_00004</td>\n      <td>0</td>\n      <td>Barking</td>\n    </tr>\n    <tr>\n      <th>4</th>\n      <td>train_00005</td>\n      <td>0</td>\n      <td>Barking</td>\n    </tr>\n    <tr>\n      <th>...</th>\n      <td>...</td>\n      <td>...</td>\n      <td>...</td>\n    </tr>\n    <tr>\n      <th>1195</th>\n      <td>train_01196</td>\n      <td>5</td>\n      <td>Dishes</td>\n    </tr>\n    <tr>\n      <th>1196</th>\n      <td>train_01197</td>\n      <td>5</td>\n      <td>Dishes</td>\n    </tr>\n    <tr>\n      <th>1197</th>\n      <td>train_01198</td>\n      <td>5</td>\n      <td>Dishes</td>\n    </tr>\n    <tr>\n      <th>1198</th>\n      <td>train_01199</td>\n      <td>5</td>\n      <td>Dishes</td>\n    </tr>\n    <tr>\n      <th>1199</th>\n      <td>train_01200</td>\n      <td>5</td>\n      <td>Dishes</td>\n    </tr>\n  </tbody>\n</table>\n<p>1200 rows × 3 columns</p>\n</div>"
     },
     "metadata": {},
     "execution_count": 25
    }
   ],
   "source": [
    "metadata"
   ]
  },
  {
   "cell_type": "code",
   "execution_count": 37,
   "metadata": {},
   "outputs": [],
   "source": [
    "pred_label = [0] * 1200\n",
    "for i, filename in enumerate(ret[\"filenames\"]):\n",
    "    idx = int(filename.split('_')[1]) - 1\n",
    "    pred_label[idx] = ret[\"pred\"][i]\n",
    "metadata[\"Pred\"] = pred_label"
   ]
  },
  {
   "cell_type": "code",
   "execution_count": 49,
   "metadata": {},
   "outputs": [],
   "source": [
    "failed = np.where(metadata[\"Label\"] != metadata[\"Pred\"])[0]"
   ]
  },
  {
   "cell_type": "code",
   "execution_count": 52,
   "metadata": {},
   "outputs": [
    {
     "output_type": "display_data",
     "data": {
      "text/plain": "<IPython.lib.display.Audio object>",
      "text/html": "\n                <audio  controls=\"controls\" >\n                    <source src=\"data:audio/wav;base64,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\" type=\"audio/wav\" />\n                    Your browser does not support the audio element.\n                </audio>\n              "
     },
     "metadata": {}
    }
   ],
   "source": [
    "for f_idx in failed[:1]:\n",
    "    filepath = \"train/train/train_{:05d}.wav\".format(f_idx + 1)\n",
    "    waveform, sample_rate = AudioProcessor.read(filepath)\n",
    "    play_audio(waveform, sample_rate)"
   ]
  },
  {
   "cell_type": "code",
   "execution_count": 64,
   "metadata": {},
   "outputs": [],
   "source": [
    "remark2idx = dict()\n",
    "for i, rem in enumerate(metadata[\"Remark\"].unique()):\n",
    "    remark2idx[rem] = i\n"
   ]
  },
  {
   "cell_type": "code",
   "execution_count": 68,
   "metadata": {},
   "outputs": [],
   "source": [
    "metadata[\"Remark_label\"] = list(map(lambda x: remark2idx[x], metadata[\"Remark\"]))"
   ]
  },
  {
   "cell_type": "code",
   "execution_count": 71,
   "metadata": {},
   "outputs": [
    {
     "output_type": "execute_result",
     "data": {
      "text/plain": [
       "array([ 0,  1,  2,  3,  4,  5,  6,  7,  8,  9, 10])"
      ]
     },
     "metadata": {},
     "execution_count": 71
    }
   ],
   "source": [
    "len(metadata[\"Remark_label\"].unique())"
   ]
  },
  {
   "cell_type": "code",
   "execution_count": 74,
   "metadata": {},
   "outputs": [],
   "source": [
    "cm = np.array([[31, 0, 2, 0, 0, 0],\n",
    " [ 1, 30, 1,  0,  0,  1],\n",
    " [ 3, 7, 40,  0,  0,  0],\n",
    " [ 1, 0,  1, 33,  0,  1],\n",
    " [ 0, 0,  0,  3, 44,  0],\n",
    " [ 0, 1,  3,  0,  4, 33]])"
   ]
  },
  {
   "cell_type": "code",
   "execution_count": 75,
   "metadata": {},
   "outputs": [
    {
     "output_type": "stream",
     "name": "stdout",
     "text": [
      "[[31  0  2  0  0  0]\n [ 1 30  1  0  0  1]\n [ 3  7 40  0  0  0]\n [ 1  0  1 33  0  1]\n [ 0  0  0  3 44  0]\n [ 0  1  3  0  4 33]]\n"
     ]
    }
   ],
   "source": [
    "print(cm)"
   ]
  },
  {
   "cell_type": "code",
   "execution_count": 83,
   "metadata": {},
   "outputs": [
    {
     "output_type": "stream",
     "name": "stdout",
     "text": [
      "Label 1\n31 33\nAccuracy: 0.9394\nLabel 2\n30 33\nAccuracy: 0.9091\nLabel 3\n40 50\nAccuracy: 0.8\nLabel 4\n33 36\nAccuracy: 0.9167\nLabel 5\n44 47\nAccuracy: 0.9362\nLabel 6\n33 41\nAccuracy: 0.8049\n"
     ]
    }
   ],
   "source": [
    "for i, row in enumerate(cm):\n",
    "    # print(\"Label {}\".format(i + 1))\n",
    "    # print(\"Accuracy: {}\".format(round(row[i] / np.sum(row), 4)))"
   ]
  },
  {
   "cell_type": "code",
   "execution_count": null,
   "metadata": {},
   "outputs": [],
   "source": []
  },
  {
   "cell_type": "code",
   "execution_count": 53,
   "metadata": {},
   "outputs": [],
   "source": [
    "from sklearn.metrics import confusion_matrix"
   ]
  },
  {
   "cell_type": "code",
   "execution_count": 55,
   "metadata": {},
   "outputs": [
    {
     "output_type": "execute_result",
     "data": {
      "text/plain": [
       "array([[0, 0, 0, 0, 0, 1],\n",
       "       [0, 1, 1, 0, 0, 0],\n",
       "       [1, 0, 0, 0, 0, 0],\n",
       "       [1, 0, 0, 2, 0, 0],\n",
       "       [0, 1, 0, 0, 0, 0],\n",
       "       [0, 0, 1, 0, 0, 1]])"
      ]
     },
     "metadata": {},
     "execution_count": 55
    }
   ],
   "source": [
    "confusion_matrix(true, pred)"
   ]
  },
  {
   "cell_type": "code",
   "execution_count": null,
   "metadata": {},
   "outputs": [],
   "source": []
  },
  {
   "cell_type": "markdown",
   "id": "b3089e3c",
   "metadata": {},
   "source": [
    "### Resource:\n",
    "* scipy.io.wavfile.read\n",
    "* torchaudio\n",
    "* librosa"
   ]
  },
  {
   "cell_type": "markdown",
   "id": "5d120c38",
   "metadata": {},
   "source": [
    "### TODOs:\n",
    "* Data Augmentation \\\n",
    "    -> Random Time Shift \\\n",
    "    -> Time and Frequency Masking"
   ]
  },
  {
   "cell_type": "code",
   "execution_count": 451,
   "id": "ab0c5b88",
   "metadata": {},
   "outputs": [],
   "source": [
    "metadata = pd.read_csv(\"./train/meta_train.csv\")"
   ]
  },
  {
   "cell_type": "code",
   "execution_count": 23,
   "id": "9d3ed8b2",
   "metadata": {},
   "outputs": [
    {
     "output_type": "execute_result",
     "data": {
      "text/plain": [
       "5    201\n",
       "0    200\n",
       "1    200\n",
       "2    200\n",
       "3    200\n",
       "4    199\n",
       "Name: Label, dtype: int64"
      ]
     },
     "metadata": {},
     "execution_count": 23
    }
   ],
   "source": [
    "metadata[\"Label\"].value_counts()"
   ]
  },
  {
   "cell_type": "code",
   "execution_count": 453,
   "id": "027fd801",
   "metadata": {},
   "outputs": [],
   "source": [
    "train_y = metadata[\"Label\"]"
   ]
  },
  {
   "cell_type": "code",
   "execution_count": 454,
   "id": "cbe64d9f",
   "metadata": {},
   "outputs": [
    {
     "output_type": "execute_result",
     "data": {
      "text/plain": [
       "1200"
      ]
     },
     "metadata": {},
     "execution_count": 454
    }
   ],
   "source": [
    "files = os.listdir(\"./train/train\")\n",
    "len(files)"
   ]
  },
  {
   "cell_type": "code",
   "execution_count": 455,
   "id": "90fed4a2",
   "metadata": {},
   "outputs": [
    {
     "output_type": "stream",
     "name": "stdout",
     "text": [
      "Number of label: 6\nLabel list: [0 1 2 3 4 5]\n"
     ]
    }
   ],
   "source": [
    "label = metadata[\"Label\"].unique()\n",
    "print(\"Number of label: {}\".format(len(label)))\n",
    "print(\"Label list: {}\".format(label))"
   ]
  },
  {
   "cell_type": "code",
   "execution_count": 456,
   "metadata": {},
   "outputs": [
    {
     "output_type": "stream",
     "name": "stdout",
     "text": [
      "Number of remark: 11\nremark list: ['Barking' 'Howling' 'Crying' 'COSmoke' 'GlassBreaking' 'Other' 'Vacuum'\n 'Blender' 'Electrics' 'Cat' 'Dishes']\n"
     ]
    }
   ],
   "source": [
    "remark = metadata[\"Remark\"].unique()\n",
    "print(\"Number of remark: {}\".format(len(remark)))\n",
    "print(\"remark list: {}\".format(remark))"
   ]
  },
  {
   "source": [
    "Caution: Labels in the dataset is not a one-to-one mapping to remark. There are 11 types of remark in `Remark` column. Should use both `Label` and `Remark` column to do classification"
   ],
   "cell_type": "markdown",
   "metadata": {}
  },
  {
   "cell_type": "markdown",
   "id": "9040c572",
   "metadata": {},
   "source": [
    "### Set path"
   ]
  },
  {
   "cell_type": "code",
   "execution_count": 457,
   "id": "81e60dc9",
   "metadata": {},
   "outputs": [],
   "source": [
    "TRAIN_AUDIO_PATH = \"./train/train\""
   ]
  },
  {
   "cell_type": "markdown",
   "id": "4b452833",
   "metadata": {},
   "source": [
    "## Audio preprocessing + Data Exploration"
   ]
  },
  {
   "cell_type": "code",
   "execution_count": 458,
   "id": "5edff509",
   "metadata": {},
   "outputs": [],
   "source": [
    "class AudioProcessor:\n",
    "    def read(audio_file):\n",
    "        \"\"\"Load an audio file. Return the signal as a tensor and the sample rate\"\"\"\n",
    "        waveform, sample_rate = torchaudio.load(audio_file)\n",
    "        return (waveform, sample_rate) #if waveform.shape == self.shape else None\n",
    "    \n",
    "    def spectro_gram(waveform, sample_rate, n_mels=64, n_fft=1024, hop_len=None):\n",
    "        top_db = 80\n",
    "\n",
    "        # spec has shape [channel, n_mels, time], where channel is mono, stereo etc\n",
    "        spec = transforms.MelSpectrogram(sample_rate, n_fft=n_fft, hop_length=hop_len, n_mels=n_mels)(waveform)\n",
    "\n",
    "        # Convert to decibels\n",
    "        spec = transforms.AmplitudeToDB(top_db=top_db)(spec)\n",
    "        return (spec)"
   ]
  },
  {
   "cell_type": "code",
   "execution_count": 459,
   "id": "2b7bd865",
   "metadata": {},
   "outputs": [],
   "source": [
    "waveform, sample_rate = AudioProcessor.read(os.path.join(TRAIN_AUDIO_PATH, files[10]))"
   ]
  },
  {
   "cell_type": "code",
   "execution_count": 460,
   "id": "ce6c996a",
   "metadata": {},
   "outputs": [
    {
     "output_type": "execute_result",
     "data": {
      "text/plain": [
       "torch.Size([1, 40000])"
      ]
     },
     "metadata": {},
     "execution_count": 460
    }
   ],
   "source": [
    "waveform.shape"
   ]
  },
  {
   "cell_type": "markdown",
   "id": "94993d47",
   "metadata": {},
   "source": [
    "### Data Cleaning"
   ]
  },
  {
   "cell_type": "code",
   "execution_count": 461,
   "id": "f2c82da7",
   "metadata": {},
   "outputs": [
    {
     "output_type": "stream",
     "name": "stdout",
     "text": [
      "Normal shape: torch.Size([1, 40000])\n",
      "\n",
      "Anomaly Shape Detected: train_01046.wav\n",
      "Shape: torch.Size([1, 16362])\n",
      "\n",
      "Total Anomaly: 1\n",
      "Before deleting anomaly: 1200 numbers of audios\n",
      "After deleting anomaly: 1199 numbers of audios\n"
     ]
    }
   ],
   "source": [
    "files = os.listdir(\"./train/train\")\n",
    "\n",
    "shape = waveform.shape\n",
    "print(\"Normal shape: {}\\n\".format(shape))\n",
    "\n",
    "num_files = len(files)\n",
    "to_remove = []\n",
    "count = 0\n",
    "for path in files:\n",
    "#     print(os.path.join(TRAIN_AUDIO_PATH, path))\n",
    "    waveform, sample_rate = audio_processor.read(os.path.join(TRAIN_AUDIO_PATH, path))\n",
    "    if waveform.shape != shape:\n",
    "        to_remove.append(path)\n",
    "        count += 1\n",
    "        print(\"Anomaly Shape Detected: {}\\nShape: {}\\n\".format(path, waveform.shape))\n",
    "\n",
    "for file in to_remove:\n",
    "    drop_idx = metadata[metadata[\"Filename\"] == file.split('.')[0]].index\n",
    "    metadata = metadata.drop(drop_idx)\n",
    "    files.remove(file)\n",
    "    \n",
    "print(\"Total Anomaly: {}\".format(count))\n",
    "print(\"Before deleting anomaly: {} numbers of audios\".format(num_files))\n",
    "print(\"After deleting anomaly: {} numbers of audios\".format(len(files)))"
   ]
  },
  {
   "cell_type": "markdown",
   "id": "6ea3f94f",
   "metadata": {},
   "source": [
    "##### Only one training data with different shape -> Just ignore it"
   ]
  },
  {
   "cell_type": "code",
   "execution_count": 462,
   "metadata": {
    "tags": []
   },
   "outputs": [
    {
     "output_type": "stream",
     "name": "stdout",
     "text": [
      "Number of valid sample x: 1199\nNumber of valid sample y: 1199\n"
     ]
    }
   ],
   "source": [
    "print(\"Number of valid sample x: {}\".format(len(files)))\n",
    "print(\"Number of valid sample y: {}\".format(len(metadata)))"
   ]
  },
  {
   "cell_type": "markdown",
   "id": "91271116",
   "metadata": {},
   "source": [
    "### Create a Pytorch Dataset"
   ]
  },
  {
   "cell_type": "code",
   "execution_count": 463,
   "id": "e010a4c8",
   "metadata": {},
   "outputs": [],
   "source": [
    "class AudioDataset(Dataset):\n",
    "    \"\"\"Face Landmarks dataset.\"\"\"\n",
    "\n",
    "    def __init__(self, path_prefix, files, y):\n",
    "        \"\"\"\n",
    "        Args:\n",
    "            csv_file (string): Path to the csv file with annotations.\n",
    "            transform (callable, optional): Optional transform to be applied\n",
    "                on a sample.\n",
    "        \"\"\"\n",
    "        self.path_prefix = path_prefix\n",
    "        self.files = files\n",
    "        self.y = y\n",
    "\n",
    "    def __len__(self):\n",
    "        return len(self.y)\n",
    "\n",
    "    def __getitem__(self, idx):\n",
    "        filename = self.files[idx]\n",
    "        filepath = os.path.join(self.path_prefix, filename)\n",
    "        \n",
    "        waveform, sample_rate = AudioProcessor.read(filepath)\n",
    "        \n",
    "        specgram = AudioProcessor.spectro_gram(waveform, sample_rate, n_mels=64, n_fft=1024, hop_len=None)\n",
    "        \n",
    "        y = self.y[self.y[\"Filename\"] == filename.split('.')[0]][\"Label\"].to_numpy()\n",
    "        \n",
    "        sample = {'x': specgram, 'y': y}\n",
    "\n",
    "        return sample"
   ]
  },
  {
   "cell_type": "code",
   "execution_count": 464,
   "metadata": {},
   "outputs": [
    {
     "output_type": "execute_result",
     "data": {
      "text/plain": [
       "Empty DataFrame\n",
       "Columns: [Filename, Label, Remark]\n",
       "Index: []"
      ],
      "text/html": "<div>\n<style scoped>\n    .dataframe tbody tr th:only-of-type {\n        vertical-align: middle;\n    }\n\n    .dataframe tbody tr th {\n        vertical-align: top;\n    }\n\n    .dataframe thead th {\n        text-align: right;\n    }\n</style>\n<table border=\"1\" class=\"dataframe\">\n  <thead>\n    <tr style=\"text-align: right;\">\n      <th></th>\n      <th>Filename</th>\n      <th>Label</th>\n      <th>Remark</th>\n    </tr>\n  </thead>\n  <tbody>\n  </tbody>\n</table>\n</div>"
     },
     "metadata": {},
     "execution_count": 464
    }
   ],
   "source": [
    "metadata[metadata[\"Filename\"] == \"train_01046\"]"
   ]
  },
  {
   "cell_type": "code",
   "execution_count": 466,
   "id": "61648a9e",
   "metadata": {},
   "outputs": [],
   "source": [
    "audio_dataset = AudioDataset(TRAIN_AUDIO_PATH, files, metadata)"
   ]
  },
  {
   "cell_type": "code",
   "execution_count": 467,
   "id": "7cafc930",
   "metadata": {},
   "outputs": [
    {
     "output_type": "execute_result",
     "data": {
      "text/plain": [
       "{'x': tensor([[[-32.2916, -32.2916, -19.6115,  ..., -32.2916, -32.2916, -32.2916],\n",
       "          [-32.2916, -32.2916, -18.8911,  ..., -32.2916, -32.2916, -32.2916],\n",
       "          [-32.2916, -30.4037, -16.0444,  ..., -32.2916, -32.2916, -32.2916],\n",
       "          ...,\n",
       "          [-28.8417,  -8.9955,  -2.5214,  ..., -32.2916, -32.2916, -32.2916],\n",
       "          [-28.3178,  -8.9373,  -3.8161,  ..., -32.2916, -32.2916, -32.2916],\n",
       "          [-32.2916, -14.6754,  -6.4746,  ..., -32.2916, -32.2916, -32.2916]]]),\n",
       " 'y': array([1])}"
      ]
     },
     "metadata": {},
     "execution_count": 467
    }
   ],
   "source": [
    "audio_dataset[500]"
   ]
  },
  {
   "cell_type": "code",
   "execution_count": 468,
   "metadata": {},
   "outputs": [],
   "source": [
    "num_items = len(audio_dataset)\n",
    "num_train = round(num_items * 0.8)\n",
    "num_val = num_items - num_train\n",
    "train_ds, val_ds = random_split(audio_dataset, [num_train, num_val])"
   ]
  },
  {
   "cell_type": "markdown",
   "id": "2d74ce83",
   "metadata": {},
   "source": [
    "### Create a Dataloader"
   ]
  },
  {
   "cell_type": "code",
   "execution_count": 469,
   "metadata": {},
   "outputs": [],
   "source": [
    "train_dataloader = DataLoader(train_ds, batch_size=32,\n",
    "                        shuffle=True, num_workers=0)\n",
    "\n",
    "val_dataloader = DataLoader(val_ds, batch_size=32,\n",
    "                        shuffle=False, num_workers=0)"
   ]
  },
  {
   "cell_type": "code",
   "execution_count": 470,
   "id": "1bbc1a01",
   "metadata": {
    "tags": []
   },
   "outputs": [
    {
     "output_type": "stream",
     "name": "stdout",
     "text": [
      "0 torch.Size([32, 1, 64, 79]) torch.Size([32, 1])\n1 torch.Size([32, 1, 64, 79]) torch.Size([32, 1])\n"
     ]
    }
   ],
   "source": [
    "for i_batch, sample_batched in enumerate(audio_dataloader):\n",
    "    print(i_batch, sample_batched['x'].size(),\n",
    "          sample_batched['y'].size())\n",
    "    if i_batch == 1:\n",
    "        break\n"
   ]
  },
  {
   "cell_type": "code",
   "execution_count": 471,
   "metadata": {},
   "outputs": [
    {
     "output_type": "stream",
     "name": "stdout",
     "text": [
      "Model Input Shape: torch.Size([32, 1, 64, 79])\n"
     ]
    }
   ],
   "source": [
    "print(\"Model Input Shape: {}\".format(sample_batched['x'].size()))"
   ]
  },
  {
   "source": [
    "### Build a CNN Model"
   ],
   "cell_type": "markdown",
   "metadata": {}
  },
  {
   "cell_type": "code",
   "execution_count": 472,
   "metadata": {},
   "outputs": [
    {
     "output_type": "stream",
     "name": "stdout",
     "text": [
      "Using cpu device\n"
     ]
    }
   ],
   "source": [
    "device = 'cuda' if torch.cuda.is_available() else 'cpu'\n",
    "print('Using {} device'.format(device))"
   ]
  },
  {
   "cell_type": "code",
   "execution_count": 473,
   "metadata": {},
   "outputs": [],
   "source": [
    "class AudioClassifier(nn.Module):\n",
    "    def __init__(self, num_class):\n",
    "        super().__init__()\n",
    "        conv_layers = []\n",
    "\n",
    "        # First Convolution Block with Relu and Batch Norm. Use Kaiming Initialization\n",
    "        self.conv1 = nn.Conv2d(1, 8, kernel_size=(5, 5), stride=(2, 2), padding=(2, 2))\n",
    "        self.relu1 = nn.ReLU()\n",
    "        self.bn1 = nn.BatchNorm2d(8)\n",
    "        torch.nn.init.kaiming_normal_(self.conv1.weight, a=0.1)\n",
    "        self.conv1.bias.data.zero_()\n",
    "        conv_layers += [self.conv1, self.relu1, self.bn1]\n",
    "\n",
    "        # Second Convolution Block\n",
    "        self.conv2 = nn.Conv2d(8, 16, kernel_size=(3, 3), stride=(2, 2), padding=(1, 1))\n",
    "        self.relu2 = nn.ReLU()\n",
    "        self.bn2 = nn.BatchNorm2d(16)\n",
    "        torch.nn.init.kaiming_normal_(self.conv2.weight, a=0.1)\n",
    "        self.conv2.bias.data.zero_()\n",
    "        conv_layers += [self.conv2, self.relu2, self.bn2]\n",
    "\n",
    "        # Wrap the Convolutional Blocks\n",
    "        self.conv = nn.Sequential(*conv_layers)\n",
    "        \n",
    "        # Linear Classifier\n",
    "        self.pooling = nn.AdaptiveAvgPool2d(output_size=1)\n",
    "        self.linear = nn.Linear(in_features=16, out_features=num_class)\n",
    "\n",
    "    def forward(self, x):\n",
    "        # Run the convolutional blocks\n",
    "        x = self.conv(x)\n",
    "\n",
    "        # Adaptive pool and flatten for input to linear layer\n",
    "        x = self.pooling(x)\n",
    "        x = x.view(x.shape[0], -1)\n",
    "\n",
    "        # Linear layer\n",
    "        x = self.linear(x)\n",
    "\n",
    "        # Final output\n",
    "        return x"
   ]
  },
  {
   "cell_type": "code",
   "execution_count": 474,
   "id": "17aa4120",
   "metadata": {},
   "outputs": [
    {
     "output_type": "stream",
     "name": "stdout",
     "text": [
      "AudioClassifier(\n  (conv1): Conv2d(1, 8, kernel_size=(5, 5), stride=(2, 2), padding=(2, 2))\n  (relu1): ReLU()\n  (bn1): BatchNorm2d(8, eps=1e-05, momentum=0.1, affine=True, track_running_stats=True)\n  (conv2): Conv2d(8, 16, kernel_size=(3, 3), stride=(2, 2), padding=(1, 1))\n  (relu2): ReLU()\n  (bn2): BatchNorm2d(16, eps=1e-05, momentum=0.1, affine=True, track_running_stats=True)\n  (conv): Sequential(\n    (0): Conv2d(1, 8, kernel_size=(5, 5), stride=(2, 2), padding=(2, 2))\n    (1): ReLU()\n    (2): BatchNorm2d(8, eps=1e-05, momentum=0.1, affine=True, track_running_stats=True)\n    (3): Conv2d(8, 16, kernel_size=(3, 3), stride=(2, 2), padding=(1, 1))\n    (4): ReLU()\n    (5): BatchNorm2d(16, eps=1e-05, momentum=0.1, affine=True, track_running_stats=True)\n  )\n  (pooling): AdaptiveAvgPool2d(output_size=1)\n  (linear): Linear(in_features=16, out_features=6, bias=True)\n)\n"
     ]
    }
   ],
   "source": [
    "# Create the model and put it on the GPU if available\n",
    "model = AudioClassifier(num_class = len(label))\n",
    "device = torch.device(device)\n",
    "model = model.to(device)\n",
    "print(model)"
   ]
  },
  {
   "cell_type": "code",
   "execution_count": 475,
   "id": "105efdcf",
   "metadata": {},
   "outputs": [],
   "source": [
    "def training(train_dataloader, val_dataloader, model, loss_fn, optimizer, num_epochs):\n",
    "    # Loss Function, Optimizer and Scheduler\n",
    "    scheduler = torch.optim.lr_scheduler.OneCycleLR(optimizer, max_lr=0.001,\n",
    "                                                steps_per_epoch=int(len(train_dataloader)),\n",
    "                                                epochs=num_epochs,\n",
    "                                                anneal_strategy='linear')\n",
    "\n",
    "    # Repeat for each epoch\n",
    "    for epoch in range(num_epochs):\n",
    "        running_loss = 0.0\n",
    "        correct_prediction = 0\n",
    "        total_prediction = 0\n",
    "\n",
    "        # Repeat for each batch in the training set\n",
    "        for i, data in enumerate(train_dataloader):\n",
    "            x, y_true = data['x'].to(device), data['y'].to(device).reshape(-1)\n",
    "\n",
    "            # Normalize the inputs\n",
    "            mean, std = x.mean(), x.std()\n",
    "            x = (x - mean) / std\n",
    "\n",
    "            # forward + backward + optimize\n",
    "            outputs = model(x)\n",
    "            loss = loss_fn(outputs, y_true)\n",
    "\n",
    "            # Backpropagation\n",
    "            optimizer.zero_grad()   # Zero the parameter gradients\n",
    "\n",
    "            loss.backward()\n",
    "            optimizer.step()\n",
    "            scheduler.step()\n",
    "\n",
    "            # Keep stats for Loss and Accuracy\n",
    "            running_loss += loss.item()\n",
    "\n",
    "            # Get the predicted class with the highest score\n",
    "            _, y_pred = torch.max(outputs, 1)\n",
    "            # Count of predictions that matched the target label\n",
    "            correct_prediction += (y_pred == y_true).sum().item()\n",
    "            total_prediction += y_pred.shape[0]\n",
    "\n",
    "            if i % 10 == 0:    # print every 10 mini-batches\n",
    "                oh_ytrue = torch.nn.functional.one_hot(y_true)\n",
    "                y_prob = torch.nn.functional.softmax(outputs, dim=1).detach().numpy()\n",
    "                auc = roc_auc_score(oh_ytrue, y_prob, multi_class=\"ovr\")\n",
    "                print(\"Epoch {} Batch {} Result\".format(epoch + 1, i + 1))\n",
    "                print('\\tLoss: %.3f' % (running_loss / (i + 1)))\n",
    "\n",
    "        val_acc, val_avg_loss, val_auc = validation_loop(val_dataloader, model, loss_fn)\n",
    "\n",
    "        # Print stats at the end of the epoch\n",
    "        num_batches = len(train_dataloader)\n",
    "        avg_loss = running_loss / num_batches\n",
    "        acc = correct_prediction/total_prediction\n",
    "        \n",
    "        print(\"Epoch: {}\".format(epoch + 1))\n",
    "        print(\"Train Stats:\")\n",
    "        print(f'\\tLoss: {avg_loss:.2f}, Accuracy: {acc:.2f}')\n",
    "\n",
    "        print(\"Validation Stats:\")\n",
    "        print(f'\\tLoss: {val_avg_loss:.2f}, Accuracy: {val_acc:.2f}, Auc: {val_auc:.2f}')\n",
    "\n",
    "    print('Finished Training')"
   ]
  },
  {
   "cell_type": "code",
   "execution_count": 476,
   "metadata": {},
   "outputs": [],
   "source": [
    "def validation_loop(val_dataloader, model, loss_fn):\n",
    "    size = len(val_dataloader.dataset)\n",
    "\n",
    "    val_loss = 0\n",
    "    correct_prediction = 0\n",
    "    total_prediction = 0\n",
    "    y_true_all = []\n",
    "    y_pred_all = []\n",
    "    y_prob_all = []\n",
    "\n",
    "    with torch.no_grad():\n",
    "        for i, data in enumerate(val_dataloader):\n",
    "            x, y_true = data['x'].to(device), data['y'].to(device).reshape(-1)\n",
    "\n",
    "            # Normalize the inputs\n",
    "            mean, std = x.mean(), x.std()\n",
    "            x = (x - mean) / std\n",
    "\n",
    "            # forward + backward + optimize\n",
    "            outputs = model(x)\n",
    "            y_prob = torch.nn.functional.softmax(outputs, dim=1)\n",
    "\n",
    "            val_loss += loss_fn(outputs, y_true).item()\n",
    "\n",
    "            # Get the predicted class with the highest score\n",
    "            _, y_pred = torch.max(outputs, 1)\n",
    "\n",
    "            # Count of predictions that matched the target label\n",
    "            correct_prediction += (y_pred == y_true).sum().item()\n",
    "            total_prediction += y_pred.shape[0]\n",
    "\n",
    "            y_true_all.append(y_true.cpu())\n",
    "            y_pred_all.append(y_pred.cpu())\n",
    "            y_prob_all.append(y_prob.cpu())\n",
    "\n",
    "    acc = correct_prediction/total_prediction\n",
    "    \n",
    "    # oh_ytrue = torch.nn.functional.one_hot(y_true)\n",
    "    # y_prob = torch.nn.functional.softmax(outputs, dim=1).detach().numpy()\n",
    "    # auc = roc_auc_score(oh_ytrue, y_prob, multi_class=\"ovr\")\n",
    "\n",
    "    # y_prob = torch.nn.functional.softmax(outputs, dim=1)\n",
    "    y_true_all = torch.cat(y_true_all, dim = 0).detach().cpu().numpy()\n",
    "    y_pred_all = torch.cat(y_pred_all, dim = 0).detach().cpu().numpy()\n",
    "    y_prob_all = torch.cat(y_prob_all, dim = 0).detach().cpu().numpy()\n",
    "\n",
    "    auc = roc_auc_score(y_true_all, y_prob_all, multi_class=\"ovr\")\n",
    "\n",
    "    return acc, val_loss / size, auc\n"
   ]
  },
  {
   "cell_type": "code",
   "execution_count": 477,
   "metadata": {
    "tags": []
   },
   "outputs": [
    {
     "output_type": "stream",
     "name": "stdout",
     "text": [
      "Epoch 1 Batch 1 Result\n",
      "\tLoss: 1.812\n",
      "Epoch 1 Batch 11 Result\n",
      "\tLoss: 1.787\n",
      "Epoch 1 Batch 21 Result\n",
      "\tLoss: 1.783\n",
      "Epoch: 1\n",
      "Train Stats:\n",
      "\tLoss: 1.79, Accuracy: 0.16\n",
      "Validation Stats:\n",
      "\tLoss: 0.06, Accuracy: 0.20, Auc: 0.60\n",
      "Epoch 2 Batch 1 Result\n",
      "\tLoss: 1.834\n",
      "Epoch 2 Batch 11 Result\n",
      "\tLoss: 1.767\n",
      "Epoch 2 Batch 21 Result\n",
      "\tLoss: 1.770\n",
      "Epoch: 2\n",
      "Train Stats:\n",
      "\tLoss: 1.76, Accuracy: 0.21\n",
      "Validation Stats:\n",
      "\tLoss: 0.06, Accuracy: 0.25, Auc: 0.66\n",
      "Epoch 3 Batch 1 Result\n",
      "\tLoss: 1.724\n",
      "Epoch 3 Batch 11 Result\n",
      "\tLoss: 1.735\n",
      "Epoch 3 Batch 21 Result\n",
      "\tLoss: 1.725\n",
      "Epoch: 3\n",
      "Train Stats:\n",
      "\tLoss: 1.71, Accuracy: 0.24\n",
      "Validation Stats:\n",
      "\tLoss: 0.06, Accuracy: 0.30, Auc: 0.72\n",
      "Epoch 4 Batch 1 Result\n",
      "\tLoss: 1.676\n",
      "Epoch 4 Batch 11 Result\n",
      "\tLoss: 1.650\n",
      "Epoch 4 Batch 21 Result\n",
      "\tLoss: 1.658\n",
      "Epoch: 4\n",
      "Train Stats:\n",
      "\tLoss: 1.65, Accuracy: 0.30\n",
      "Validation Stats:\n",
      "\tLoss: 0.05, Accuracy: 0.34, Auc: 0.77\n",
      "Epoch 5 Batch 1 Result\n",
      "\tLoss: 1.659\n",
      "Epoch 5 Batch 11 Result\n",
      "\tLoss: 1.617\n",
      "Epoch 5 Batch 21 Result\n",
      "\tLoss: 1.601\n",
      "Epoch: 5\n",
      "Train Stats:\n",
      "\tLoss: 1.58, Accuracy: 0.38\n",
      "Validation Stats:\n",
      "\tLoss: 0.05, Accuracy: 0.39, Auc: 0.81\n",
      "Epoch 6 Batch 1 Result\n",
      "\tLoss: 1.513\n",
      "Epoch 6 Batch 11 Result\n",
      "\tLoss: 1.487\n",
      "Epoch 6 Batch 21 Result\n",
      "\tLoss: 1.491\n",
      "Epoch: 6\n",
      "Train Stats:\n",
      "\tLoss: 1.50, Accuracy: 0.48\n",
      "Validation Stats:\n",
      "\tLoss: 0.05, Accuracy: 0.47, Auc: 0.84\n",
      "Epoch 7 Batch 1 Result\n",
      "\tLoss: 1.360\n",
      "Epoch 7 Batch 11 Result\n",
      "\tLoss: 1.434\n",
      "Epoch 7 Batch 21 Result\n",
      "\tLoss: 1.440\n",
      "Epoch: 7\n",
      "Train Stats:\n",
      "\tLoss: 1.43, Accuracy: 0.52\n",
      "Validation Stats:\n",
      "\tLoss: 0.05, Accuracy: 0.51, Auc: 0.86\n",
      "Epoch 8 Batch 1 Result\n",
      "\tLoss: 1.332\n",
      "Epoch 8 Batch 11 Result\n",
      "\tLoss: 1.403\n",
      "Epoch 8 Batch 21 Result\n",
      "\tLoss: 1.391\n",
      "Epoch: 8\n",
      "Train Stats:\n",
      "\tLoss: 1.38, Accuracy: 0.55\n",
      "Validation Stats:\n",
      "\tLoss: 0.05, Accuracy: 0.53, Auc: 0.86\n",
      "Epoch 9 Batch 1 Result\n",
      "\tLoss: 1.277\n",
      "Epoch 9 Batch 11 Result\n",
      "\tLoss: 1.353\n",
      "Epoch 9 Batch 21 Result\n",
      "\tLoss: 1.334\n",
      "Epoch: 9\n",
      "Train Stats:\n",
      "\tLoss: 1.33, Accuracy: 0.57\n",
      "Validation Stats:\n",
      "\tLoss: 0.04, Accuracy: 0.56, Auc: 0.87\n",
      "Epoch 10 Batch 1 Result\n",
      "\tLoss: 1.311\n",
      "Epoch 10 Batch 11 Result\n",
      "\tLoss: 1.319\n",
      "Epoch 10 Batch 21 Result\n",
      "\tLoss: 1.298\n",
      "Epoch: 10\n",
      "Train Stats:\n",
      "\tLoss: 1.29, Accuracy: 0.59\n",
      "Validation Stats:\n",
      "\tLoss: 0.04, Accuracy: 0.56, Auc: 0.88\n",
      "Epoch 11 Batch 1 Result\n",
      "\tLoss: 1.209\n",
      "Epoch 11 Batch 11 Result\n",
      "\tLoss: 1.305\n",
      "Epoch 11 Batch 21 Result\n",
      "\tLoss: 1.293\n",
      "Epoch: 11\n",
      "Train Stats:\n",
      "\tLoss: 1.27, Accuracy: 0.59\n",
      "Validation Stats:\n",
      "\tLoss: 0.04, Accuracy: 0.56, Auc: 0.88\n",
      "Epoch 12 Batch 1 Result\n",
      "\tLoss: 1.264\n",
      "Epoch 12 Batch 11 Result\n",
      "\tLoss: 1.263\n",
      "Epoch 12 Batch 21 Result\n",
      "\tLoss: 1.255\n",
      "Epoch: 12\n",
      "Train Stats:\n",
      "\tLoss: 1.25, Accuracy: 0.61\n",
      "Validation Stats:\n",
      "\tLoss: 0.04, Accuracy: 0.57, Auc: 0.88\n",
      "Epoch 13 Batch 1 Result\n",
      "\tLoss: 1.224\n",
      "Epoch 13 Batch 11 Result\n",
      "\tLoss: 1.202\n",
      "Epoch 13 Batch 21 Result\n",
      "\tLoss: 1.230\n",
      "Epoch: 13\n",
      "Train Stats:\n",
      "\tLoss: 1.22, Accuracy: 0.64\n",
      "Validation Stats:\n",
      "\tLoss: 0.04, Accuracy: 0.57, Auc: 0.88\n",
      "Epoch 14 Batch 1 Result\n",
      "\tLoss: 1.282\n",
      "Epoch 14 Batch 11 Result\n",
      "\tLoss: 1.232\n",
      "Epoch 14 Batch 21 Result\n",
      "\tLoss: 1.217\n",
      "Epoch: 14\n",
      "Train Stats:\n",
      "\tLoss: 1.22, Accuracy: 0.62\n",
      "Validation Stats:\n",
      "\tLoss: 0.04, Accuracy: 0.56, Auc: 0.88\n",
      "Epoch 15 Batch 1 Result\n",
      "\tLoss: 1.141\n",
      "Epoch 15 Batch 11 Result\n",
      "\tLoss: 1.227\n",
      "Epoch 15 Batch 21 Result\n",
      "\tLoss: 1.225\n",
      "Epoch: 15\n",
      "Train Stats:\n",
      "\tLoss: 1.21, Accuracy: 0.64\n",
      "Validation Stats:\n",
      "\tLoss: 0.04, Accuracy: 0.57, Auc: 0.88\n",
      "Finished Training\n"
     ]
    }
   ],
   "source": [
    "loss_fnc = torch.nn.CrossEntropyLoss()\n",
    "optimizer = torch.optim.Adam(model.parameters(), lr=0.001)\n",
    "num_epochs = 15\n",
    "\n",
    "training(train_dataloader, val_dataloader, model, loss_fnc, optimizer, num_epochs)"
   ]
  },
  {
   "cell_type": "code",
   "execution_count": null,
   "metadata": {},
   "outputs": [],
   "source": [
    "audio_dataloader[37]"
   ]
  },
  {
   "cell_type": "code",
   "execution_count": 175,
   "metadata": {},
   "outputs": [
    {
     "output_type": "stream",
     "name": "stdout",
     "text": [
      "1200\n"
     ]
    }
   ],
   "source": [
    "print(len(audio_dataset))"
   ]
  },
  {
   "cell_type": "code",
   "execution_count": 33,
   "metadata": {},
   "outputs": [
    {
     "output_type": "display_data",
     "data": {
      "text/plain": "<Figure size 432x288 with 1 Axes>",
      "image/svg+xml": "<?xml version=\"1.0\" encoding=\"utf-8\" standalone=\"no\"?>\n<!DOCTYPE svg PUBLIC \"-//W3C//DTD SVG 1.1//EN\"\n  \"http://www.w3.org/Graphics/SVG/1.1/DTD/svg11.dtd\">\n<svg height=\"277.314375pt\" version=\"1.1\" viewBox=\"0 0 392.14375 277.314375\" width=\"392.14375pt\" xmlns=\"http://www.w3.org/2000/svg\" xmlns:xlink=\"http://www.w3.org/1999/xlink\">\n <metadata>\n  <rdf:RDF xmlns:cc=\"http://creativecommons.org/ns#\" xmlns:dc=\"http://purl.org/dc/elements/1.1/\" xmlns:rdf=\"http://www.w3.org/1999/02/22-rdf-syntax-ns#\">\n   <cc:Work>\n    <dc:type rdf:resource=\"http://purl.org/dc/dcmitype/StillImage\"/>\n    <dc:date>2021-05-31T01:32:32.124009</dc:date>\n    <dc:format>image/svg+xml</dc:format>\n    <dc:creator>\n     <cc:Agent>\n      <dc:title>Matplotlib v3.4.2, https://matplotlib.org/</dc:title>\n     </cc:Agent>\n    </dc:creator>\n   </cc:Work>\n  </rdf:RDF>\n </metadata>\n <defs>\n  <style type=\"text/css\">*{stroke-linecap:butt;stroke-linejoin:round;}</style>\n </defs>\n <g id=\"figure_1\">\n  <g id=\"patch_1\">\n   <path d=\"M 0 277.314375 \nL 392.14375 277.314375 \nL 392.14375 0 \nL 0 0 \nz\n\" style=\"fill:none;\"/>\n  </g>\n  <g id=\"axes_1\">\n   <g id=\"patch_2\">\n    <path d=\"M 50.14375 239.758125 \nL 384.94375 239.758125 \nL 384.94375 22.318125 \nL 50.14375 22.318125 \nz\n\" style=\"fill:#ffffff;\"/>\n   </g>\n   <g id=\"matplotlib.axis_1\">\n    <g id=\"xtick_1\">\n     <g id=\"line2d_1\">\n      <defs>\n       <path d=\"M 0 0 \nL 0 3.5 \n\" id=\"mfae78fc1c3\" style=\"stroke:#000000;stroke-width:0.8;\"/>\n      </defs>\n      <g>\n       <use style=\"stroke:#000000;stroke-width:0.8;\" x=\"65.361932\" xlink:href=\"#mfae78fc1c3\" y=\"239.758125\"/>\n      </g>\n     </g>\n     <g id=\"text_1\">\n      <!-- 1.0 -->\n      <g transform=\"translate(57.410369 254.356562)scale(0.1 -0.1)\">\n       <defs>\n        <path d=\"M 794 531 \nL 1825 531 \nL 1825 4091 \nL 703 3866 \nL 703 4441 \nL 1819 4666 \nL 2450 4666 \nL 2450 531 \nL 3481 531 \nL 3481 0 \nL 794 0 \nL 794 531 \nz\n\" id=\"DejaVuSans-31\" transform=\"scale(0.015625)\"/>\n        <path d=\"M 684 794 \nL 1344 794 \nL 1344 0 \nL 684 0 \nL 684 794 \nz\n\" id=\"DejaVuSans-2e\" transform=\"scale(0.015625)\"/>\n        <path d=\"M 2034 4250 \nQ 1547 4250 1301 3770 \nQ 1056 3291 1056 2328 \nQ 1056 1369 1301 889 \nQ 1547 409 2034 409 \nQ 2525 409 2770 889 \nQ 3016 1369 3016 2328 \nQ 3016 3291 2770 3770 \nQ 2525 4250 2034 4250 \nz\nM 2034 4750 \nQ 2819 4750 3233 4129 \nQ 3647 3509 3647 2328 \nQ 3647 1150 3233 529 \nQ 2819 -91 2034 -91 \nQ 1250 -91 836 529 \nQ 422 1150 422 2328 \nQ 422 3509 836 4129 \nQ 1250 4750 2034 4750 \nz\n\" id=\"DejaVuSans-30\" transform=\"scale(0.015625)\"/>\n       </defs>\n       <use xlink:href=\"#DejaVuSans-31\"/>\n       <use x=\"63.623047\" xlink:href=\"#DejaVuSans-2e\"/>\n       <use x=\"95.410156\" xlink:href=\"#DejaVuSans-30\"/>\n      </g>\n     </g>\n    </g>\n    <g id=\"xtick_2\">\n     <g id=\"line2d_2\">\n      <g>\n       <use style=\"stroke:#000000;stroke-width:0.8;\" x=\"116.089205\" xlink:href=\"#mfae78fc1c3\" y=\"239.758125\"/>\n      </g>\n     </g>\n     <g id=\"text_2\">\n      <!-- 1.5 -->\n      <g transform=\"translate(108.137642 254.356562)scale(0.1 -0.1)\">\n       <defs>\n        <path d=\"M 691 4666 \nL 3169 4666 \nL 3169 4134 \nL 1269 4134 \nL 1269 2991 \nQ 1406 3038 1543 3061 \nQ 1681 3084 1819 3084 \nQ 2600 3084 3056 2656 \nQ 3513 2228 3513 1497 \nQ 3513 744 3044 326 \nQ 2575 -91 1722 -91 \nQ 1428 -91 1123 -41 \nQ 819 9 494 109 \nL 494 744 \nQ 775 591 1075 516 \nQ 1375 441 1709 441 \nQ 2250 441 2565 725 \nQ 2881 1009 2881 1497 \nQ 2881 1984 2565 2268 \nQ 2250 2553 1709 2553 \nQ 1456 2553 1204 2497 \nQ 953 2441 691 2322 \nL 691 4666 \nz\n\" id=\"DejaVuSans-35\" transform=\"scale(0.015625)\"/>\n       </defs>\n       <use xlink:href=\"#DejaVuSans-31\"/>\n       <use x=\"63.623047\" xlink:href=\"#DejaVuSans-2e\"/>\n       <use x=\"95.410156\" xlink:href=\"#DejaVuSans-35\"/>\n      </g>\n     </g>\n    </g>\n    <g id=\"xtick_3\">\n     <g id=\"line2d_3\">\n      <g>\n       <use style=\"stroke:#000000;stroke-width:0.8;\" x=\"166.816477\" xlink:href=\"#mfae78fc1c3\" y=\"239.758125\"/>\n      </g>\n     </g>\n     <g id=\"text_3\">\n      <!-- 2.0 -->\n      <g transform=\"translate(158.864915 254.356562)scale(0.1 -0.1)\">\n       <defs>\n        <path d=\"M 1228 531 \nL 3431 531 \nL 3431 0 \nL 469 0 \nL 469 531 \nQ 828 903 1448 1529 \nQ 2069 2156 2228 2338 \nQ 2531 2678 2651 2914 \nQ 2772 3150 2772 3378 \nQ 2772 3750 2511 3984 \nQ 2250 4219 1831 4219 \nQ 1534 4219 1204 4116 \nQ 875 4013 500 3803 \nL 500 4441 \nQ 881 4594 1212 4672 \nQ 1544 4750 1819 4750 \nQ 2544 4750 2975 4387 \nQ 3406 4025 3406 3419 \nQ 3406 3131 3298 2873 \nQ 3191 2616 2906 2266 \nQ 2828 2175 2409 1742 \nQ 1991 1309 1228 531 \nz\n\" id=\"DejaVuSans-32\" transform=\"scale(0.015625)\"/>\n       </defs>\n       <use xlink:href=\"#DejaVuSans-32\"/>\n       <use x=\"63.623047\" xlink:href=\"#DejaVuSans-2e\"/>\n       <use x=\"95.410156\" xlink:href=\"#DejaVuSans-30\"/>\n      </g>\n     </g>\n    </g>\n    <g id=\"xtick_4\">\n     <g id=\"line2d_4\">\n      <g>\n       <use style=\"stroke:#000000;stroke-width:0.8;\" x=\"217.54375\" xlink:href=\"#mfae78fc1c3\" y=\"239.758125\"/>\n      </g>\n     </g>\n     <g id=\"text_4\">\n      <!-- 2.5 -->\n      <g transform=\"translate(209.592187 254.356562)scale(0.1 -0.1)\">\n       <use xlink:href=\"#DejaVuSans-32\"/>\n       <use x=\"63.623047\" xlink:href=\"#DejaVuSans-2e\"/>\n       <use x=\"95.410156\" xlink:href=\"#DejaVuSans-35\"/>\n      </g>\n     </g>\n    </g>\n    <g id=\"xtick_5\">\n     <g id=\"line2d_5\">\n      <g>\n       <use style=\"stroke:#000000;stroke-width:0.8;\" x=\"268.271023\" xlink:href=\"#mfae78fc1c3\" y=\"239.758125\"/>\n      </g>\n     </g>\n     <g id=\"text_5\">\n      <!-- 3.0 -->\n      <g transform=\"translate(260.31946 254.356562)scale(0.1 -0.1)\">\n       <defs>\n        <path d=\"M 2597 2516 \nQ 3050 2419 3304 2112 \nQ 3559 1806 3559 1356 \nQ 3559 666 3084 287 \nQ 2609 -91 1734 -91 \nQ 1441 -91 1130 -33 \nQ 819 25 488 141 \nL 488 750 \nQ 750 597 1062 519 \nQ 1375 441 1716 441 \nQ 2309 441 2620 675 \nQ 2931 909 2931 1356 \nQ 2931 1769 2642 2001 \nQ 2353 2234 1838 2234 \nL 1294 2234 \nL 1294 2753 \nL 1863 2753 \nQ 2328 2753 2575 2939 \nQ 2822 3125 2822 3475 \nQ 2822 3834 2567 4026 \nQ 2313 4219 1838 4219 \nQ 1578 4219 1281 4162 \nQ 984 4106 628 3988 \nL 628 4550 \nQ 988 4650 1302 4700 \nQ 1616 4750 1894 4750 \nQ 2613 4750 3031 4423 \nQ 3450 4097 3450 3541 \nQ 3450 3153 3228 2886 \nQ 3006 2619 2597 2516 \nz\n\" id=\"DejaVuSans-33\" transform=\"scale(0.015625)\"/>\n       </defs>\n       <use xlink:href=\"#DejaVuSans-33\"/>\n       <use x=\"63.623047\" xlink:href=\"#DejaVuSans-2e\"/>\n       <use x=\"95.410156\" xlink:href=\"#DejaVuSans-30\"/>\n      </g>\n     </g>\n    </g>\n    <g id=\"xtick_6\">\n     <g id=\"line2d_6\">\n      <g>\n       <use style=\"stroke:#000000;stroke-width:0.8;\" x=\"318.998295\" xlink:href=\"#mfae78fc1c3\" y=\"239.758125\"/>\n      </g>\n     </g>\n     <g id=\"text_6\">\n      <!-- 3.5 -->\n      <g transform=\"translate(311.046733 254.356562)scale(0.1 -0.1)\">\n       <use xlink:href=\"#DejaVuSans-33\"/>\n       <use x=\"63.623047\" xlink:href=\"#DejaVuSans-2e\"/>\n       <use x=\"95.410156\" xlink:href=\"#DejaVuSans-35\"/>\n      </g>\n     </g>\n    </g>\n    <g id=\"xtick_7\">\n     <g id=\"line2d_7\">\n      <g>\n       <use style=\"stroke:#000000;stroke-width:0.8;\" x=\"369.725568\" xlink:href=\"#mfae78fc1c3\" y=\"239.758125\"/>\n      </g>\n     </g>\n     <g id=\"text_7\">\n      <!-- 4.0 -->\n      <g transform=\"translate(361.774006 254.356562)scale(0.1 -0.1)\">\n       <defs>\n        <path d=\"M 2419 4116 \nL 825 1625 \nL 2419 1625 \nL 2419 4116 \nz\nM 2253 4666 \nL 3047 4666 \nL 3047 1625 \nL 3713 1625 \nL 3713 1100 \nL 3047 1100 \nL 3047 0 \nL 2419 0 \nL 2419 1100 \nL 313 1100 \nL 313 1709 \nL 2253 4666 \nz\n\" id=\"DejaVuSans-34\" transform=\"scale(0.015625)\"/>\n       </defs>\n       <use xlink:href=\"#DejaVuSans-34\"/>\n       <use x=\"63.623047\" xlink:href=\"#DejaVuSans-2e\"/>\n       <use x=\"95.410156\" xlink:href=\"#DejaVuSans-30\"/>\n      </g>\n     </g>\n    </g>\n    <g id=\"text_8\">\n     <!-- epochs -->\n     <g transform=\"translate(199.710938 268.034687)scale(0.1 -0.1)\">\n      <defs>\n       <path d=\"M 3597 1894 \nL 3597 1613 \nL 953 1613 \nQ 991 1019 1311 708 \nQ 1631 397 2203 397 \nQ 2534 397 2845 478 \nQ 3156 559 3463 722 \nL 3463 178 \nQ 3153 47 2828 -22 \nQ 2503 -91 2169 -91 \nQ 1331 -91 842 396 \nQ 353 884 353 1716 \nQ 353 2575 817 3079 \nQ 1281 3584 2069 3584 \nQ 2775 3584 3186 3129 \nQ 3597 2675 3597 1894 \nz\nM 3022 2063 \nQ 3016 2534 2758 2815 \nQ 2500 3097 2075 3097 \nQ 1594 3097 1305 2825 \nQ 1016 2553 972 2059 \nL 3022 2063 \nz\n\" id=\"DejaVuSans-65\" transform=\"scale(0.015625)\"/>\n       <path d=\"M 1159 525 \nL 1159 -1331 \nL 581 -1331 \nL 581 3500 \nL 1159 3500 \nL 1159 2969 \nQ 1341 3281 1617 3432 \nQ 1894 3584 2278 3584 \nQ 2916 3584 3314 3078 \nQ 3713 2572 3713 1747 \nQ 3713 922 3314 415 \nQ 2916 -91 2278 -91 \nQ 1894 -91 1617 61 \nQ 1341 213 1159 525 \nz\nM 3116 1747 \nQ 3116 2381 2855 2742 \nQ 2594 3103 2138 3103 \nQ 1681 3103 1420 2742 \nQ 1159 2381 1159 1747 \nQ 1159 1113 1420 752 \nQ 1681 391 2138 391 \nQ 2594 391 2855 752 \nQ 3116 1113 3116 1747 \nz\n\" id=\"DejaVuSans-70\" transform=\"scale(0.015625)\"/>\n       <path d=\"M 1959 3097 \nQ 1497 3097 1228 2736 \nQ 959 2375 959 1747 \nQ 959 1119 1226 758 \nQ 1494 397 1959 397 \nQ 2419 397 2687 759 \nQ 2956 1122 2956 1747 \nQ 2956 2369 2687 2733 \nQ 2419 3097 1959 3097 \nz\nM 1959 3584 \nQ 2709 3584 3137 3096 \nQ 3566 2609 3566 1747 \nQ 3566 888 3137 398 \nQ 2709 -91 1959 -91 \nQ 1206 -91 779 398 \nQ 353 888 353 1747 \nQ 353 2609 779 3096 \nQ 1206 3584 1959 3584 \nz\n\" id=\"DejaVuSans-6f\" transform=\"scale(0.015625)\"/>\n       <path d=\"M 3122 3366 \nL 3122 2828 \nQ 2878 2963 2633 3030 \nQ 2388 3097 2138 3097 \nQ 1578 3097 1268 2742 \nQ 959 2388 959 1747 \nQ 959 1106 1268 751 \nQ 1578 397 2138 397 \nQ 2388 397 2633 464 \nQ 2878 531 3122 666 \nL 3122 134 \nQ 2881 22 2623 -34 \nQ 2366 -91 2075 -91 \nQ 1284 -91 818 406 \nQ 353 903 353 1747 \nQ 353 2603 823 3093 \nQ 1294 3584 2113 3584 \nQ 2378 3584 2631 3529 \nQ 2884 3475 3122 3366 \nz\n\" id=\"DejaVuSans-63\" transform=\"scale(0.015625)\"/>\n       <path d=\"M 3513 2113 \nL 3513 0 \nL 2938 0 \nL 2938 2094 \nQ 2938 2591 2744 2837 \nQ 2550 3084 2163 3084 \nQ 1697 3084 1428 2787 \nQ 1159 2491 1159 1978 \nL 1159 0 \nL 581 0 \nL 581 4863 \nL 1159 4863 \nL 1159 2956 \nQ 1366 3272 1645 3428 \nQ 1925 3584 2291 3584 \nQ 2894 3584 3203 3211 \nQ 3513 2838 3513 2113 \nz\n\" id=\"DejaVuSans-68\" transform=\"scale(0.015625)\"/>\n       <path d=\"M 2834 3397 \nL 2834 2853 \nQ 2591 2978 2328 3040 \nQ 2066 3103 1784 3103 \nQ 1356 3103 1142 2972 \nQ 928 2841 928 2578 \nQ 928 2378 1081 2264 \nQ 1234 2150 1697 2047 \nL 1894 2003 \nQ 2506 1872 2764 1633 \nQ 3022 1394 3022 966 \nQ 3022 478 2636 193 \nQ 2250 -91 1575 -91 \nQ 1294 -91 989 -36 \nQ 684 19 347 128 \nL 347 722 \nQ 666 556 975 473 \nQ 1284 391 1588 391 \nQ 1994 391 2212 530 \nQ 2431 669 2431 922 \nQ 2431 1156 2273 1281 \nQ 2116 1406 1581 1522 \nL 1381 1569 \nQ 847 1681 609 1914 \nQ 372 2147 372 2553 \nQ 372 3047 722 3315 \nQ 1072 3584 1716 3584 \nQ 2034 3584 2315 3537 \nQ 2597 3491 2834 3397 \nz\n\" id=\"DejaVuSans-73\" transform=\"scale(0.015625)\"/>\n      </defs>\n      <use xlink:href=\"#DejaVuSans-65\"/>\n      <use x=\"61.523438\" xlink:href=\"#DejaVuSans-70\"/>\n      <use x=\"125\" xlink:href=\"#DejaVuSans-6f\"/>\n      <use x=\"186.181641\" xlink:href=\"#DejaVuSans-63\"/>\n      <use x=\"241.162109\" xlink:href=\"#DejaVuSans-68\"/>\n      <use x=\"304.541016\" xlink:href=\"#DejaVuSans-73\"/>\n     </g>\n    </g>\n   </g>\n   <g id=\"matplotlib.axis_2\">\n    <g id=\"ytick_1\">\n     <g id=\"line2d_8\">\n      <defs>\n       <path d=\"M 0 0 \nL -3.5 0 \n\" id=\"mc3758436fd\" style=\"stroke:#000000;stroke-width:0.8;\"/>\n      </defs>\n      <g>\n       <use style=\"stroke:#000000;stroke-width:0.8;\" x=\"50.14375\" xlink:href=\"#mc3758436fd\" y=\"229.874489\"/>\n      </g>\n     </g>\n     <g id=\"text_9\">\n      <!-- 1.00 -->\n      <g transform=\"translate(20.878125 233.673707)scale(0.1 -0.1)\">\n       <use xlink:href=\"#DejaVuSans-31\"/>\n       <use x=\"63.623047\" xlink:href=\"#DejaVuSans-2e\"/>\n       <use x=\"95.410156\" xlink:href=\"#DejaVuSans-30\"/>\n       <use x=\"159.033203\" xlink:href=\"#DejaVuSans-30\"/>\n      </g>\n     </g>\n    </g>\n    <g id=\"ytick_2\">\n     <g id=\"line2d_9\">\n      <g>\n       <use style=\"stroke:#000000;stroke-width:0.8;\" x=\"50.14375\" xlink:href=\"#mc3758436fd\" y=\"205.165398\"/>\n      </g>\n     </g>\n     <g id=\"text_10\">\n      <!-- 1.25 -->\n      <g transform=\"translate(20.878125 208.964616)scale(0.1 -0.1)\">\n       <use xlink:href=\"#DejaVuSans-31\"/>\n       <use x=\"63.623047\" xlink:href=\"#DejaVuSans-2e\"/>\n       <use x=\"95.410156\" xlink:href=\"#DejaVuSans-32\"/>\n       <use x=\"159.033203\" xlink:href=\"#DejaVuSans-35\"/>\n      </g>\n     </g>\n    </g>\n    <g id=\"ytick_3\">\n     <g id=\"line2d_10\">\n      <g>\n       <use style=\"stroke:#000000;stroke-width:0.8;\" x=\"50.14375\" xlink:href=\"#mc3758436fd\" y=\"180.456307\"/>\n      </g>\n     </g>\n     <g id=\"text_11\">\n      <!-- 1.50 -->\n      <g transform=\"translate(20.878125 184.255526)scale(0.1 -0.1)\">\n       <use xlink:href=\"#DejaVuSans-31\"/>\n       <use x=\"63.623047\" xlink:href=\"#DejaVuSans-2e\"/>\n       <use x=\"95.410156\" xlink:href=\"#DejaVuSans-35\"/>\n       <use x=\"159.033203\" xlink:href=\"#DejaVuSans-30\"/>\n      </g>\n     </g>\n    </g>\n    <g id=\"ytick_4\">\n     <g id=\"line2d_11\">\n      <g>\n       <use style=\"stroke:#000000;stroke-width:0.8;\" x=\"50.14375\" xlink:href=\"#mc3758436fd\" y=\"155.747216\"/>\n      </g>\n     </g>\n     <g id=\"text_12\">\n      <!-- 1.75 -->\n      <g transform=\"translate(20.878125 159.546435)scale(0.1 -0.1)\">\n       <defs>\n        <path d=\"M 525 4666 \nL 3525 4666 \nL 3525 4397 \nL 1831 0 \nL 1172 0 \nL 2766 4134 \nL 525 4134 \nL 525 4666 \nz\n\" id=\"DejaVuSans-37\" transform=\"scale(0.015625)\"/>\n       </defs>\n       <use xlink:href=\"#DejaVuSans-31\"/>\n       <use x=\"63.623047\" xlink:href=\"#DejaVuSans-2e\"/>\n       <use x=\"95.410156\" xlink:href=\"#DejaVuSans-37\"/>\n       <use x=\"159.033203\" xlink:href=\"#DejaVuSans-35\"/>\n      </g>\n     </g>\n    </g>\n    <g id=\"ytick_5\">\n     <g id=\"line2d_12\">\n      <g>\n       <use style=\"stroke:#000000;stroke-width:0.8;\" x=\"50.14375\" xlink:href=\"#mc3758436fd\" y=\"131.038125\"/>\n      </g>\n     </g>\n     <g id=\"text_13\">\n      <!-- 2.00 -->\n      <g transform=\"translate(20.878125 134.837344)scale(0.1 -0.1)\">\n       <use xlink:href=\"#DejaVuSans-32\"/>\n       <use x=\"63.623047\" xlink:href=\"#DejaVuSans-2e\"/>\n       <use x=\"95.410156\" xlink:href=\"#DejaVuSans-30\"/>\n       <use x=\"159.033203\" xlink:href=\"#DejaVuSans-30\"/>\n      </g>\n     </g>\n    </g>\n    <g id=\"ytick_6\">\n     <g id=\"line2d_13\">\n      <g>\n       <use style=\"stroke:#000000;stroke-width:0.8;\" x=\"50.14375\" xlink:href=\"#mc3758436fd\" y=\"106.329034\"/>\n      </g>\n     </g>\n     <g id=\"text_14\">\n      <!-- 2.25 -->\n      <g transform=\"translate(20.878125 110.128253)scale(0.1 -0.1)\">\n       <use xlink:href=\"#DejaVuSans-32\"/>\n       <use x=\"63.623047\" xlink:href=\"#DejaVuSans-2e\"/>\n       <use x=\"95.410156\" xlink:href=\"#DejaVuSans-32\"/>\n       <use x=\"159.033203\" xlink:href=\"#DejaVuSans-35\"/>\n      </g>\n     </g>\n    </g>\n    <g id=\"ytick_7\">\n     <g id=\"line2d_14\">\n      <g>\n       <use style=\"stroke:#000000;stroke-width:0.8;\" x=\"50.14375\" xlink:href=\"#mc3758436fd\" y=\"81.619943\"/>\n      </g>\n     </g>\n     <g id=\"text_15\">\n      <!-- 2.50 -->\n      <g transform=\"translate(20.878125 85.419162)scale(0.1 -0.1)\">\n       <use xlink:href=\"#DejaVuSans-32\"/>\n       <use x=\"63.623047\" xlink:href=\"#DejaVuSans-2e\"/>\n       <use x=\"95.410156\" xlink:href=\"#DejaVuSans-35\"/>\n       <use x=\"159.033203\" xlink:href=\"#DejaVuSans-30\"/>\n      </g>\n     </g>\n    </g>\n    <g id=\"ytick_8\">\n     <g id=\"line2d_15\">\n      <g>\n       <use style=\"stroke:#000000;stroke-width:0.8;\" x=\"50.14375\" xlink:href=\"#mc3758436fd\" y=\"56.910852\"/>\n      </g>\n     </g>\n     <g id=\"text_16\">\n      <!-- 2.75 -->\n      <g transform=\"translate(20.878125 60.710071)scale(0.1 -0.1)\">\n       <use xlink:href=\"#DejaVuSans-32\"/>\n       <use x=\"63.623047\" xlink:href=\"#DejaVuSans-2e\"/>\n       <use x=\"95.410156\" xlink:href=\"#DejaVuSans-37\"/>\n       <use x=\"159.033203\" xlink:href=\"#DejaVuSans-35\"/>\n      </g>\n     </g>\n    </g>\n    <g id=\"ytick_9\">\n     <g id=\"line2d_16\">\n      <g>\n       <use style=\"stroke:#000000;stroke-width:0.8;\" x=\"50.14375\" xlink:href=\"#mc3758436fd\" y=\"32.201761\"/>\n      </g>\n     </g>\n     <g id=\"text_17\">\n      <!-- 3.00 -->\n      <g transform=\"translate(20.878125 36.00098)scale(0.1 -0.1)\">\n       <use xlink:href=\"#DejaVuSans-33\"/>\n       <use x=\"63.623047\" xlink:href=\"#DejaVuSans-2e\"/>\n       <use x=\"95.410156\" xlink:href=\"#DejaVuSans-30\"/>\n       <use x=\"159.033203\" xlink:href=\"#DejaVuSans-30\"/>\n      </g>\n     </g>\n    </g>\n    <g id=\"text_18\">\n     <!-- val -->\n     <g transform=\"translate(14.798438 138.450625)rotate(-90)scale(0.1 -0.1)\">\n      <defs>\n       <path d=\"M 191 3500 \nL 800 3500 \nL 1894 563 \nL 2988 3500 \nL 3597 3500 \nL 2284 0 \nL 1503 0 \nL 191 3500 \nz\n\" id=\"DejaVuSans-76\" transform=\"scale(0.015625)\"/>\n       <path d=\"M 2194 1759 \nQ 1497 1759 1228 1600 \nQ 959 1441 959 1056 \nQ 959 750 1161 570 \nQ 1363 391 1709 391 \nQ 2188 391 2477 730 \nQ 2766 1069 2766 1631 \nL 2766 1759 \nL 2194 1759 \nz\nM 3341 1997 \nL 3341 0 \nL 2766 0 \nL 2766 531 \nQ 2569 213 2275 61 \nQ 1981 -91 1556 -91 \nQ 1019 -91 701 211 \nQ 384 513 384 1019 \nQ 384 1609 779 1909 \nQ 1175 2209 1959 2209 \nL 2766 2209 \nL 2766 2266 \nQ 2766 2663 2505 2880 \nQ 2244 3097 1772 3097 \nQ 1472 3097 1187 3025 \nQ 903 2953 641 2809 \nL 641 3341 \nQ 956 3463 1253 3523 \nQ 1550 3584 1831 3584 \nQ 2591 3584 2966 3190 \nQ 3341 2797 3341 1997 \nz\n\" id=\"DejaVuSans-61\" transform=\"scale(0.015625)\"/>\n       <path d=\"M 603 4863 \nL 1178 4863 \nL 1178 0 \nL 603 0 \nL 603 4863 \nz\n\" id=\"DejaVuSans-6c\" transform=\"scale(0.015625)\"/>\n      </defs>\n      <use xlink:href=\"#DejaVuSans-76\"/>\n      <use x=\"59.179688\" xlink:href=\"#DejaVuSans-61\"/>\n      <use x=\"120.458984\" xlink:href=\"#DejaVuSans-6c\"/>\n     </g>\n    </g>\n   </g>\n   <g id=\"line2d_17\">\n    <path clip-path=\"url(#p9862bcd04b)\" d=\"M 65.361932 229.874489 \nL 166.816477 131.038125 \nL 268.271023 32.201761 \nL 369.725568 131.038125 \n\" style=\"fill:none;stroke:#1f77b4;stroke-linecap:square;stroke-width:1.5;\"/>\n   </g>\n   <g id=\"line2d_18\">\n    <path clip-path=\"url(#p9862bcd04b)\" d=\"M 50.14375 81.619943 \nL 384.94375 81.619943 \n\" style=\"fill:none;stroke:#008000;stroke-linecap:square;stroke-width:1.5;\"/>\n   </g>\n   <g id=\"patch_3\">\n    <path d=\"M 50.14375 239.758125 \nL 50.14375 22.318125 \n\" style=\"fill:none;stroke:#000000;stroke-linecap:square;stroke-linejoin:miter;stroke-width:0.8;\"/>\n   </g>\n   <g id=\"patch_4\">\n    <path d=\"M 384.94375 239.758125 \nL 384.94375 22.318125 \n\" style=\"fill:none;stroke:#000000;stroke-linecap:square;stroke-linejoin:miter;stroke-width:0.8;\"/>\n   </g>\n   <g id=\"patch_5\">\n    <path d=\"M 50.14375 239.758125 \nL 384.94375 239.758125 \n\" style=\"fill:none;stroke:#000000;stroke-linecap:square;stroke-linejoin:miter;stroke-width:0.8;\"/>\n   </g>\n   <g id=\"patch_6\">\n    <path d=\"M 50.14375 22.318125 \nL 384.94375 22.318125 \n\" style=\"fill:none;stroke:#000000;stroke-linecap:square;stroke-linejoin:miter;stroke-width:0.8;\"/>\n   </g>\n   <g id=\"text_19\">\n    <!-- train loss -->\n    <g transform=\"translate(190.0825 16.318125)scale(0.12 -0.12)\">\n     <defs>\n      <path d=\"M 1172 4494 \nL 1172 3500 \nL 2356 3500 \nL 2356 3053 \nL 1172 3053 \nL 1172 1153 \nQ 1172 725 1289 603 \nQ 1406 481 1766 481 \nL 2356 481 \nL 2356 0 \nL 1766 0 \nQ 1100 0 847 248 \nQ 594 497 594 1153 \nL 594 3053 \nL 172 3053 \nL 172 3500 \nL 594 3500 \nL 594 4494 \nL 1172 4494 \nz\n\" id=\"DejaVuSans-74\" transform=\"scale(0.015625)\"/>\n      <path d=\"M 2631 2963 \nQ 2534 3019 2420 3045 \nQ 2306 3072 2169 3072 \nQ 1681 3072 1420 2755 \nQ 1159 2438 1159 1844 \nL 1159 0 \nL 581 0 \nL 581 3500 \nL 1159 3500 \nL 1159 2956 \nQ 1341 3275 1631 3429 \nQ 1922 3584 2338 3584 \nQ 2397 3584 2469 3576 \nQ 2541 3569 2628 3553 \nL 2631 2963 \nz\n\" id=\"DejaVuSans-72\" transform=\"scale(0.015625)\"/>\n      <path d=\"M 603 3500 \nL 1178 3500 \nL 1178 0 \nL 603 0 \nL 603 3500 \nz\nM 603 4863 \nL 1178 4863 \nL 1178 4134 \nL 603 4134 \nL 603 4863 \nz\n\" id=\"DejaVuSans-69\" transform=\"scale(0.015625)\"/>\n      <path d=\"M 3513 2113 \nL 3513 0 \nL 2938 0 \nL 2938 2094 \nQ 2938 2591 2744 2837 \nQ 2550 3084 2163 3084 \nQ 1697 3084 1428 2787 \nQ 1159 2491 1159 1978 \nL 1159 0 \nL 581 0 \nL 581 3500 \nL 1159 3500 \nL 1159 2956 \nQ 1366 3272 1645 3428 \nQ 1925 3584 2291 3584 \nQ 2894 3584 3203 3211 \nQ 3513 2838 3513 2113 \nz\n\" id=\"DejaVuSans-6e\" transform=\"scale(0.015625)\"/>\n      <path id=\"DejaVuSans-20\" transform=\"scale(0.015625)\"/>\n     </defs>\n     <use xlink:href=\"#DejaVuSans-74\"/>\n     <use x=\"39.208984\" xlink:href=\"#DejaVuSans-72\"/>\n     <use x=\"80.322266\" xlink:href=\"#DejaVuSans-61\"/>\n     <use x=\"141.601562\" xlink:href=\"#DejaVuSans-69\"/>\n     <use x=\"169.384766\" xlink:href=\"#DejaVuSans-6e\"/>\n     <use x=\"232.763672\" xlink:href=\"#DejaVuSans-20\"/>\n     <use x=\"264.550781\" xlink:href=\"#DejaVuSans-6c\"/>\n     <use x=\"292.333984\" xlink:href=\"#DejaVuSans-6f\"/>\n     <use x=\"353.515625\" xlink:href=\"#DejaVuSans-73\"/>\n     <use x=\"405.615234\" xlink:href=\"#DejaVuSans-73\"/>\n    </g>\n   </g>\n   <g id=\"legend_1\">\n    <g id=\"patch_7\">\n     <path d=\"M 321.757813 44.99625 \nL 377.94375 44.99625 \nQ 379.94375 44.99625 379.94375 42.99625 \nL 379.94375 29.318125 \nQ 379.94375 27.318125 377.94375 27.318125 \nL 321.757813 27.318125 \nQ 319.757813 27.318125 319.757813 29.318125 \nL 319.757813 42.99625 \nQ 319.757813 44.99625 321.757813 44.99625 \nz\n\" style=\"fill:#ffffff;opacity:0.8;stroke:#cccccc;stroke-linejoin:miter;\"/>\n    </g>\n    <g id=\"line2d_19\">\n     <path d=\"M 323.757813 35.416562 \nL 343.757813 35.416562 \n\" style=\"fill:none;stroke:#008000;stroke-linecap:square;stroke-width:1.5;\"/>\n    </g>\n    <g id=\"line2d_20\"/>\n    <g id=\"text_20\">\n     <!-- label -->\n     <g transform=\"translate(351.757813 38.916562)scale(0.1 -0.1)\">\n      <defs>\n       <path d=\"M 3116 1747 \nQ 3116 2381 2855 2742 \nQ 2594 3103 2138 3103 \nQ 1681 3103 1420 2742 \nQ 1159 2381 1159 1747 \nQ 1159 1113 1420 752 \nQ 1681 391 2138 391 \nQ 2594 391 2855 752 \nQ 3116 1113 3116 1747 \nz\nM 1159 2969 \nQ 1341 3281 1617 3432 \nQ 1894 3584 2278 3584 \nQ 2916 3584 3314 3078 \nQ 3713 2572 3713 1747 \nQ 3713 922 3314 415 \nQ 2916 -91 2278 -91 \nQ 1894 -91 1617 61 \nQ 1341 213 1159 525 \nL 1159 0 \nL 581 0 \nL 581 4863 \nL 1159 4863 \nL 1159 2969 \nz\n\" id=\"DejaVuSans-62\" transform=\"scale(0.015625)\"/>\n      </defs>\n      <use xlink:href=\"#DejaVuSans-6c\"/>\n      <use x=\"27.783203\" xlink:href=\"#DejaVuSans-61\"/>\n      <use x=\"89.0625\" xlink:href=\"#DejaVuSans-62\"/>\n      <use x=\"152.539062\" xlink:href=\"#DejaVuSans-65\"/>\n      <use x=\"214.0625\" xlink:href=\"#DejaVuSans-6c\"/>\n     </g>\n    </g>\n   </g>\n  </g>\n </g>\n <defs>\n  <clipPath id=\"p9862bcd04b\">\n   <rect height=\"217.44\" width=\"334.8\" x=\"50.14375\" y=\"22.318125\"/>\n  </clipPath>\n </defs>\n</svg>\n",
      "image/png": "[encoded data removed]"
     },
     "metadata": {
      "needs_background": "light"
     }
    }
   ],
   "source": [
    "plt.plot(np.arange(1, 5), [1, 2, 3, 2])\n",
    "plt.title(\"train loss\")\n",
    "plt.xlabel(\"epochs\")\n",
    "plt.ylabel(\"val\")\n",
    "# plt.savefig(\"temp.jpg\")\n",
    "plt.axhline(y=2.5, color='g', linestyle='-', label='label')\n",
    "plt.legend()\n",
    "plt.show()"
   ]
  },
  {
   "cell_type": "code",
   "execution_count": null,
   "metadata": {},
   "outputs": [],
   "source": []
  }
 ],
 "metadata": {
  "kernelspec": {
   "name": "python394jvsc74a57bd0aee8b7b246df8f9039afb4144a1f6fd8d2ca17a180786b69acc140d282b71a49",
   "display_name": "Python 3.9.4 64-bit"
  },
  "language_info": {
   "codemirror_mode": {
    "name": "ipython",
    "version": 3
   },
   "file_extension": ".py",
   "mimetype": "text/x-python",
   "name": "python",
   "nbconvert_exporter": "python",
   "pygments_lexer": "ipython3",
   "version": "3.9.4"
  }
 },
 "nbformat": 4,
 "nbformat_minor": 5
}