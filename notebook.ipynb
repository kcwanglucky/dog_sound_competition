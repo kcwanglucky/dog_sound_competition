{
 "cells": [
  {
   "cell_type": "code",
   "execution_count": 506,
   "id": "0c12802d",
   "metadata": {},
   "outputs": [],
   "source": [
    "import pandas as pd\n",
    "import numpy as np\n",
    "import os\n",
    "import matplotlib.pyplot as plt\n",
    "import torch\n",
    "from torch import nn\n",
    "import torchaudio\n",
    "from torchaudio import transforms\n",
    "from torch.utils.data import Dataset, DataLoader\n",
    "from IPython.display import Audio, display\n",
    "\n",
    "from sklearn.metrics import roc_auc_score\n",
    "from torch.utils.data import random_split"
   ]
  },
  {
   "cell_type": "code",
   "execution_count": 2,
   "id": "09ce373f",
   "metadata": {},
   "outputs": [],
   "source": [
    "from utils import *\n",
    "from audio_classifier import *\n",
    "from config import path_config"
   ]
  },
  {
   "cell_type": "code",
   "execution_count": 3,
   "metadata": {},
   "outputs": [
    {
     "output_type": "stream",
     "name": "stdout",
     "text": [
      "Number of samples: 1200\nwaveform shape: torch.Size([1, 40000])\nNumber of y\nNumber of label: 6\nLabel list: [0 1 2 3 4 5]\n"
     ]
    },
    {
     "output_type": "error",
     "ename": "AttributeError",
     "evalue": "'numpy.ndarray' object has no attribute 'value_counts'",
     "traceback": [
      "\u001b[0;31m---------------------------------------------------------------------------\u001b[0m",
      "\u001b[0;31mAttributeError\u001b[0m                            Traceback (most recent call last)",
      "\u001b[0;32m<ipython-input-3-5eb4d808b09c>\u001b[0m in \u001b[0;36m<module>\u001b[0;34m\u001b[0m\n\u001b[1;32m      3\u001b[0m \u001b[0;34m\u001b[0m\u001b[0m\n\u001b[1;32m      4\u001b[0m \u001b[0mx_summary\u001b[0m \u001b[0;34m=\u001b[0m \u001b[0mexplore_x\u001b[0m\u001b[0;34m(\u001b[0m\u001b[0mtrain_audio_path\u001b[0m\u001b[0;34m)\u001b[0m\u001b[0;34m\u001b[0m\u001b[0;34m\u001b[0m\u001b[0m\n\u001b[0;32m----> 5\u001b[0;31m \u001b[0my_summary\u001b[0m \u001b[0;34m=\u001b[0m \u001b[0mexplore_y\u001b[0m\u001b[0;34m(\u001b[0m\u001b[0mmetadata\u001b[0m\u001b[0;34m)\u001b[0m\u001b[0;34m\u001b[0m\u001b[0;34m\u001b[0m\u001b[0m\n\u001b[0m",
      "\u001b[0;32m~/Documents/Competition/audio_classifier.py\u001b[0m in \u001b[0;36mexplore_y\u001b[0;34m(metadata)\u001b[0m\n\u001b[1;32m    117\u001b[0m     \u001b[0mprint\u001b[0m\u001b[0;34m(\u001b[0m\u001b[0;34m\"Number of label: {}\"\u001b[0m\u001b[0;34m.\u001b[0m\u001b[0mformat\u001b[0m\u001b[0;34m(\u001b[0m\u001b[0mlen\u001b[0m\u001b[0;34m(\u001b[0m\u001b[0mlabel\u001b[0m\u001b[0;34m)\u001b[0m\u001b[0;34m)\u001b[0m\u001b[0;34m)\u001b[0m\u001b[0;34m\u001b[0m\u001b[0;34m\u001b[0m\u001b[0m\n\u001b[1;32m    118\u001b[0m     \u001b[0mprint\u001b[0m\u001b[0;34m(\u001b[0m\u001b[0;34m\"Label list: {}\"\u001b[0m\u001b[0;34m.\u001b[0m\u001b[0mformat\u001b[0m\u001b[0;34m(\u001b[0m\u001b[0mlabel\u001b[0m\u001b[0;34m)\u001b[0m\u001b[0;34m)\u001b[0m\u001b[0;34m\u001b[0m\u001b[0;34m\u001b[0m\u001b[0m\n\u001b[0;32m--> 119\u001b[0;31m     \u001b[0mprint\u001b[0m\u001b[0;34m(\u001b[0m\u001b[0;34m\"label distribution: \"\u001b[0m\u001b[0;34m.\u001b[0m\u001b[0mformat\u001b[0m\u001b[0;34m(\u001b[0m\u001b[0mlabel\u001b[0m\u001b[0;34m.\u001b[0m\u001b[0mvalue_counts\u001b[0m\u001b[0;34m(\u001b[0m\u001b[0;34m)\u001b[0m\u001b[0;34m)\u001b[0m\u001b[0;34m)\u001b[0m\u001b[0;34m\u001b[0m\u001b[0;34m\u001b[0m\u001b[0m\n\u001b[0m\u001b[1;32m    120\u001b[0m \u001b[0;34m\u001b[0m\u001b[0m\n\u001b[1;32m    121\u001b[0m     \u001b[0mremark\u001b[0m \u001b[0;34m=\u001b[0m \u001b[0mmetadata\u001b[0m\u001b[0;34m[\u001b[0m\u001b[0;34m\"Remark\"\u001b[0m\u001b[0;34m]\u001b[0m\u001b[0;34m.\u001b[0m\u001b[0munique\u001b[0m\u001b[0;34m(\u001b[0m\u001b[0;34m)\u001b[0m\u001b[0;34m\u001b[0m\u001b[0;34m\u001b[0m\u001b[0m\n",
      "\u001b[0;31mAttributeError\u001b[0m: 'numpy.ndarray' object has no attribute 'value_counts'"
     ]
    }
   ],
   "source": [
    "train_audio_path = path_config[\"train_audio_path\"]\n",
    "metadata = pd.read_csv(\"./train/meta_train.csv\")\n",
    "\n",
    "x_summary = explore_x(train_audio_path)\n",
    "y_summary = explore_y(metadata)"
   ]
  },
  {
   "cell_type": "code",
   "execution_count": 509,
   "metadata": {},
   "outputs": [
    {
     "output_type": "stream",
     "name": "stdout",
     "text": [
      "Normal shape: torch.Size([1, 40000])\n",
      "\n",
      "Anomaly Shape Detected: train_01046.wav\n",
      "Shape: torch.Size([1, 16362])\n",
      "\n",
      "Total Anomaly: 1\n",
      "Before deleting anomaly: 1200 numbers of audios\n",
      "After deleting anomaly: 1199 numbers of audios\n",
      "Number of valid sample x: 1199\n",
      "Number of valid sample y: 1199\n"
     ]
    }
   ],
   "source": [
    "data = data_cleaning(train_audio_path, x_summary[\"waveform_shape\"], metadata)"
   ]
  },
  {
   "cell_type": "code",
   "execution_count": 510,
   "metadata": {},
   "outputs": [],
   "source": [
    "audio_dataset = AudioDataset(train_audio_path, data[\"x_file_paths\"], data[\"y\"])"
   ]
  },
  {
   "cell_type": "code",
   "execution_count": 511,
   "metadata": {},
   "outputs": [],
   "source": [
    "data = data_split(audio_dataset)"
   ]
  },
  {
   "cell_type": "code",
   "execution_count": 514,
   "metadata": {},
   "outputs": [
    {
     "output_type": "stream",
     "name": "stdout",
     "text": [
      "Using cpu device\n",
      "AudioClassifier(\n",
      "  (conv1): Conv2d(1, 8, kernel_size=(5, 5), stride=(2, 2), padding=(2, 2))\n",
      "  (relu1): ReLU()\n",
      "  (bn1): BatchNorm2d(8, eps=1e-05, momentum=0.1, affine=True, track_running_stats=True)\n",
      "  (conv2): Conv2d(8, 16, kernel_size=(3, 3), stride=(2, 2), padding=(1, 1))\n",
      "  (relu2): ReLU()\n",
      "  (bn2): BatchNorm2d(16, eps=1e-05, momentum=0.1, affine=True, track_running_stats=True)\n",
      "  (conv): Sequential(\n",
      "    (0): Conv2d(1, 8, kernel_size=(5, 5), stride=(2, 2), padding=(2, 2))\n",
      "    (1): ReLU()\n",
      "    (2): BatchNorm2d(8, eps=1e-05, momentum=0.1, affine=True, track_running_stats=True)\n",
      "    (3): Conv2d(8, 16, kernel_size=(3, 3), stride=(2, 2), padding=(1, 1))\n",
      "    (4): ReLU()\n",
      "    (5): BatchNorm2d(16, eps=1e-05, momentum=0.1, affine=True, track_running_stats=True)\n",
      "  )\n",
      "  (pooling): AdaptiveAvgPool2d(output_size=1)\n",
      "  (linear): Linear(in_features=16, out_features=6, bias=True)\n",
      ")\n",
      "Epoch 1 Batch 1 Result\n",
      "\tLoss: 1.772\n",
      "Epoch 1 Batch 11 Result\n",
      "\tLoss: 1.814\n",
      "Epoch 1 Batch 21 Result\n",
      "\tLoss: 1.818\n",
      "Epoch: 1\n",
      "Train Stats:\n",
      "\tLoss: 1.82, Accuracy: 0.18\n",
      "Validation Stats:\n",
      "\tLoss: 0.06, Accuracy: 0.18, Auc: 0.52\n",
      "Epoch 2 Batch 1 Result\n",
      "\tLoss: 1.725\n",
      "Epoch 2 Batch 11 Result\n",
      "\tLoss: 1.798\n",
      "Epoch 2 Batch 21 Result\n",
      "\tLoss: 1.781\n",
      "Epoch: 2\n",
      "Train Stats:\n",
      "\tLoss: 1.78, Accuracy: 0.23\n",
      "Validation Stats:\n",
      "\tLoss: 0.06, Accuracy: 0.21, Auc: 0.63\n",
      "Epoch 3 Batch 1 Result\n",
      "\tLoss: 1.738\n",
      "Epoch 3 Batch 11 Result\n",
      "\tLoss: 1.737\n",
      "Epoch 3 Batch 21 Result\n",
      "\tLoss: 1.727\n",
      "Epoch: 3\n",
      "Train Stats:\n",
      "\tLoss: 1.72, Accuracy: 0.28\n",
      "Validation Stats:\n",
      "\tLoss: 0.06, Accuracy: 0.28, Auc: 0.71\n",
      "Epoch 4 Batch 1 Result\n",
      "\tLoss: 1.709\n",
      "Epoch 4 Batch 11 Result\n",
      "\tLoss: 1.674\n",
      "Epoch 4 Batch 21 Result\n",
      "\tLoss: 1.661\n",
      "Epoch: 4\n",
      "Train Stats:\n",
      "\tLoss: 1.64, Accuracy: 0.34\n",
      "Validation Stats:\n",
      "\tLoss: 0.05, Accuracy: 0.33, Auc: 0.75\n",
      "Epoch 5 Batch 1 Result\n",
      "\tLoss: 1.573\n",
      "Epoch 5 Batch 11 Result\n",
      "\tLoss: 1.603\n",
      "Epoch 5 Batch 21 Result\n",
      "\tLoss: 1.582\n",
      "Epoch: 5\n",
      "Train Stats:\n",
      "\tLoss: 1.57, Accuracy: 0.38\n",
      "Validation Stats:\n",
      "\tLoss: 0.05, Accuracy: 0.34, Auc: 0.77\n",
      "Epoch 6 Batch 1 Result\n",
      "\tLoss: 1.517\n",
      "Epoch 6 Batch 11 Result\n",
      "\tLoss: 1.518\n",
      "Epoch 6 Batch 21 Result\n",
      "\tLoss: 1.511\n",
      "Epoch: 6\n",
      "Train Stats:\n",
      "\tLoss: 1.51, Accuracy: 0.40\n",
      "Validation Stats:\n",
      "\tLoss: 0.05, Accuracy: 0.36, Auc: 0.79\n",
      "Epoch 7 Batch 1 Result\n",
      "\tLoss: 1.448\n",
      "Epoch 7 Batch 11 Result\n",
      "\tLoss: 1.495\n",
      "Epoch 7 Batch 21 Result\n",
      "\tLoss: 1.470\n",
      "Epoch: 7\n",
      "Train Stats:\n",
      "\tLoss: 1.46, Accuracy: 0.43\n",
      "Validation Stats:\n",
      "\tLoss: 0.05, Accuracy: 0.38, Auc: 0.81\n",
      "Epoch 8 Batch 1 Result\n",
      "\tLoss: 1.426\n",
      "Epoch 8 Batch 11 Result\n",
      "\tLoss: 1.420\n",
      "Epoch 8 Batch 21 Result\n",
      "\tLoss: 1.418\n",
      "Epoch: 8\n",
      "Train Stats:\n",
      "\tLoss: 1.42, Accuracy: 0.42\n",
      "Validation Stats:\n",
      "\tLoss: 0.05, Accuracy: 0.40, Auc: 0.82\n",
      "Epoch 9 Batch 1 Result\n",
      "\tLoss: 1.225\n",
      "Epoch 9 Batch 11 Result\n",
      "\tLoss: 1.381\n",
      "Epoch 9 Batch 21 Result\n",
      "\tLoss: 1.367\n",
      "Epoch: 9\n",
      "Train Stats:\n",
      "\tLoss: 1.39, Accuracy: 0.44\n",
      "Validation Stats:\n",
      "\tLoss: 0.05, Accuracy: 0.41, Auc: 0.82\n",
      "Epoch 10 Batch 1 Result\n",
      "\tLoss: 1.451\n",
      "Epoch 10 Batch 11 Result\n",
      "\tLoss: 1.382\n",
      "Epoch 10 Batch 21 Result\n",
      "\tLoss: 1.379\n",
      "Epoch: 10\n",
      "Train Stats:\n",
      "\tLoss: 1.37, Accuracy: 0.46\n",
      "Validation Stats:\n",
      "\tLoss: 0.05, Accuracy: 0.43, Auc: 0.83\n",
      "Epoch 11 Batch 1 Result\n",
      "\tLoss: 1.441\n",
      "Epoch 11 Batch 11 Result\n",
      "\tLoss: 1.386\n",
      "Epoch 11 Batch 21 Result\n",
      "\tLoss: 1.348\n",
      "Epoch: 11\n",
      "Train Stats:\n",
      "\tLoss: 1.34, Accuracy: 0.46\n",
      "Validation Stats:\n",
      "\tLoss: 0.05, Accuracy: 0.45, Auc: 0.84\n",
      "Epoch 12 Batch 1 Result\n",
      "\tLoss: 1.255\n",
      "Epoch 12 Batch 11 Result\n",
      "\tLoss: 1.325\n",
      "Epoch 12 Batch 21 Result\n",
      "\tLoss: 1.321\n",
      "Epoch: 12\n",
      "Train Stats:\n",
      "\tLoss: 1.32, Accuracy: 0.47\n",
      "Validation Stats:\n",
      "\tLoss: 0.05, Accuracy: 0.46, Auc: 0.84\n",
      "Epoch 13 Batch 1 Result\n",
      "\tLoss: 1.299\n",
      "Epoch 13 Batch 11 Result\n",
      "\tLoss: 1.301\n",
      "Epoch 13 Batch 21 Result\n",
      "\tLoss: 1.317\n",
      "Epoch: 13\n",
      "Train Stats:\n",
      "\tLoss: 1.31, Accuracy: 0.48\n",
      "Validation Stats:\n",
      "\tLoss: 0.05, Accuracy: 0.46, Auc: 0.84\n",
      "Epoch 14 Batch 1 Result\n",
      "\tLoss: 1.255\n",
      "Epoch 14 Batch 11 Result\n",
      "\tLoss: 1.313\n",
      "Epoch 14 Batch 21 Result\n",
      "\tLoss: 1.315\n",
      "Epoch: 14\n",
      "Train Stats:\n",
      "\tLoss: 1.31, Accuracy: 0.49\n",
      "Validation Stats:\n",
      "\tLoss: 0.04, Accuracy: 0.46, Auc: 0.85\n",
      "Epoch 15 Batch 1 Result\n",
      "\tLoss: 1.197\n",
      "Epoch 15 Batch 11 Result\n",
      "\tLoss: 1.277\n",
      "Epoch 15 Batch 21 Result\n",
      "\tLoss: 1.286\n",
      "Epoch: 15\n",
      "Train Stats:\n",
      "\tLoss: 1.31, Accuracy: 0.48\n",
      "Validation Stats:\n",
      "\tLoss: 0.04, Accuracy: 0.47, Auc: 0.84\n",
      "Finished Training\n"
     ]
    }
   ],
   "source": [
    "train(data, len(y_summary[\"label\"]))"
   ]
  },
  {
   "cell_type": "code",
   "execution_count": null,
   "metadata": {},
   "outputs": [],
   "source": []
  },
  {
   "cell_type": "code",
   "execution_count": null,
   "metadata": {},
   "outputs": [],
   "source": []
  },
  {
   "cell_type": "code",
   "execution_count": null,
   "metadata": {},
   "outputs": [],
   "source": []
  },
  {
   "cell_type": "markdown",
   "id": "b3089e3c",
   "metadata": {},
   "source": [
    "### Resource:\n",
    "* scipy.io.wavfile.read\n",
    "* torchaudio\n",
    "* librosa"
   ]
  },
  {
   "cell_type": "markdown",
   "id": "5d120c38",
   "metadata": {},
   "source": [
    "### TODOs:\n",
    "* Data Augmentation \\\n",
    "    -> Random Time Shift \\\n",
    "    -> Time and Frequency Masking"
   ]
  },
  {
   "cell_type": "code",
   "execution_count": 451,
   "id": "ab0c5b88",
   "metadata": {},
   "outputs": [],
   "source": [
    "metadata = pd.read_csv(\"./train/meta_train.csv\")"
   ]
  },
  {
   "cell_type": "code",
   "execution_count": 452,
   "id": "9d3ed8b2",
   "metadata": {},
   "outputs": [
    {
     "output_type": "execute_result",
     "data": {
      "text/plain": [
       "      Filename  Label   Remark\n",
       "0  train_00001      0  Barking\n",
       "1  train_00002      0  Barking\n",
       "2  train_00003      0  Barking\n",
       "3  train_00004      0  Barking\n",
       "4  train_00005      0  Barking"
      ],
      "text/html": "<div>\n<style scoped>\n    .dataframe tbody tr th:only-of-type {\n        vertical-align: middle;\n    }\n\n    .dataframe tbody tr th {\n        vertical-align: top;\n    }\n\n    .dataframe thead th {\n        text-align: right;\n    }\n</style>\n<table border=\"1\" class=\"dataframe\">\n  <thead>\n    <tr style=\"text-align: right;\">\n      <th></th>\n      <th>Filename</th>\n      <th>Label</th>\n      <th>Remark</th>\n    </tr>\n  </thead>\n  <tbody>\n    <tr>\n      <th>0</th>\n      <td>train_00001</td>\n      <td>0</td>\n      <td>Barking</td>\n    </tr>\n    <tr>\n      <th>1</th>\n      <td>train_00002</td>\n      <td>0</td>\n      <td>Barking</td>\n    </tr>\n    <tr>\n      <th>2</th>\n      <td>train_00003</td>\n      <td>0</td>\n      <td>Barking</td>\n    </tr>\n    <tr>\n      <th>3</th>\n      <td>train_00004</td>\n      <td>0</td>\n      <td>Barking</td>\n    </tr>\n    <tr>\n      <th>4</th>\n      <td>train_00005</td>\n      <td>0</td>\n      <td>Barking</td>\n    </tr>\n  </tbody>\n</table>\n</div>"
     },
     "metadata": {},
     "execution_count": 452
    }
   ],
   "source": [
    "metadata.head()"
   ]
  },
  {
   "cell_type": "code",
   "execution_count": 453,
   "id": "027fd801",
   "metadata": {},
   "outputs": [],
   "source": [
    "train_y = metadata[\"Label\"]"
   ]
  },
  {
   "cell_type": "code",
   "execution_count": 454,
   "id": "cbe64d9f",
   "metadata": {},
   "outputs": [
    {
     "output_type": "execute_result",
     "data": {
      "text/plain": [
       "1200"
      ]
     },
     "metadata": {},
     "execution_count": 454
    }
   ],
   "source": [
    "files = os.listdir(\"./train/train\")\n",
    "len(files)"
   ]
  },
  {
   "cell_type": "code",
   "execution_count": 455,
   "id": "90fed4a2",
   "metadata": {},
   "outputs": [
    {
     "output_type": "stream",
     "name": "stdout",
     "text": [
      "Number of label: 6\nLabel list: [0 1 2 3 4 5]\n"
     ]
    }
   ],
   "source": [
    "label = metadata[\"Label\"].unique()\n",
    "print(\"Number of label: {}\".format(len(label)))\n",
    "print(\"Label list: {}\".format(label))"
   ]
  },
  {
   "cell_type": "code",
   "execution_count": 456,
   "metadata": {},
   "outputs": [
    {
     "output_type": "stream",
     "name": "stdout",
     "text": [
      "Number of remark: 11\nremark list: ['Barking' 'Howling' 'Crying' 'COSmoke' 'GlassBreaking' 'Other' 'Vacuum'\n 'Blender' 'Electrics' 'Cat' 'Dishes']\n"
     ]
    }
   ],
   "source": [
    "remark = metadata[\"Remark\"].unique()\n",
    "print(\"Number of remark: {}\".format(len(remark)))\n",
    "print(\"remark list: {}\".format(remark))"
   ]
  },
  {
   "source": [
    "Caution: Labels in the dataset is not a one-to-one mapping to remark. There are 11 types of remark in `Remark` column. Should use both `Label` and `Remark` column to do classification"
   ],
   "cell_type": "markdown",
   "metadata": {}
  },
  {
   "cell_type": "markdown",
   "id": "9040c572",
   "metadata": {},
   "source": [
    "### Set path"
   ]
  },
  {
   "cell_type": "code",
   "execution_count": 457,
   "id": "81e60dc9",
   "metadata": {},
   "outputs": [],
   "source": [
    "TRAIN_AUDIO_PATH = \"./train/train\""
   ]
  },
  {
   "cell_type": "markdown",
   "id": "4b452833",
   "metadata": {},
   "source": [
    "## Audio preprocessing + Data Exploration"
   ]
  },
  {
   "cell_type": "code",
   "execution_count": 458,
   "id": "5edff509",
   "metadata": {},
   "outputs": [],
   "source": [
    "class AudioProcessor:\n",
    "    def read(audio_file):\n",
    "        \"\"\"Load an audio file. Return the signal as a tensor and the sample rate\"\"\"\n",
    "        waveform, sample_rate = torchaudio.load(audio_file)\n",
    "        return (waveform, sample_rate) #if waveform.shape == self.shape else None\n",
    "    \n",
    "    def spectro_gram(waveform, sample_rate, n_mels=64, n_fft=1024, hop_len=None):\n",
    "        top_db = 80\n",
    "\n",
    "        # spec has shape [channel, n_mels, time], where channel is mono, stereo etc\n",
    "        spec = transforms.MelSpectrogram(sample_rate, n_fft=n_fft, hop_length=hop_len, n_mels=n_mels)(waveform)\n",
    "\n",
    "        # Convert to decibels\n",
    "        spec = transforms.AmplitudeToDB(top_db=top_db)(spec)\n",
    "        return (spec)"
   ]
  },
  {
   "cell_type": "code",
   "execution_count": 459,
   "id": "2b7bd865",
   "metadata": {},
   "outputs": [],
   "source": [
    "waveform, sample_rate = AudioProcessor.read(os.path.join(TRAIN_AUDIO_PATH, files[10]))"
   ]
  },
  {
   "cell_type": "code",
   "execution_count": 460,
   "id": "ce6c996a",
   "metadata": {},
   "outputs": [
    {
     "output_type": "execute_result",
     "data": {
      "text/plain": [
       "torch.Size([1, 40000])"
      ]
     },
     "metadata": {},
     "execution_count": 460
    }
   ],
   "source": [
    "waveform.shape"
   ]
  },
  {
   "cell_type": "markdown",
   "id": "94993d47",
   "metadata": {},
   "source": [
    "### Data Cleaning"
   ]
  },
  {
   "cell_type": "code",
   "execution_count": 461,
   "id": "f2c82da7",
   "metadata": {},
   "outputs": [
    {
     "output_type": "stream",
     "name": "stdout",
     "text": [
      "Normal shape: torch.Size([1, 40000])\n",
      "\n",
      "Anomaly Shape Detected: train_01046.wav\n",
      "Shape: torch.Size([1, 16362])\n",
      "\n",
      "Total Anomaly: 1\n",
      "Before deleting anomaly: 1200 numbers of audios\n",
      "After deleting anomaly: 1199 numbers of audios\n"
     ]
    }
   ],
   "source": [
    "files = os.listdir(\"./train/train\")\n",
    "\n",
    "shape = waveform.shape\n",
    "print(\"Normal shape: {}\\n\".format(shape))\n",
    "\n",
    "num_files = len(files)\n",
    "to_remove = []\n",
    "count = 0\n",
    "for path in files:\n",
    "#     print(os.path.join(TRAIN_AUDIO_PATH, path))\n",
    "    waveform, sample_rate = audio_processor.read(os.path.join(TRAIN_AUDIO_PATH, path))\n",
    "    if waveform.shape != shape:\n",
    "        to_remove.append(path)\n",
    "        count += 1\n",
    "        print(\"Anomaly Shape Detected: {}\\nShape: {}\\n\".format(path, waveform.shape))\n",
    "\n",
    "for file in to_remove:\n",
    "    drop_idx = metadata[metadata[\"Filename\"] == file.split('.')[0]].index\n",
    "    metadata = metadata.drop(drop_idx)\n",
    "    files.remove(file)\n",
    "    \n",
    "print(\"Total Anomaly: {}\".format(count))\n",
    "print(\"Before deleting anomaly: {} numbers of audios\".format(num_files))\n",
    "print(\"After deleting anomaly: {} numbers of audios\".format(len(files)))"
   ]
  },
  {
   "cell_type": "markdown",
   "id": "6ea3f94f",
   "metadata": {},
   "source": [
    "##### Only one training data with different shape -> Just ignore it"
   ]
  },
  {
   "cell_type": "code",
   "execution_count": 462,
   "metadata": {
    "tags": []
   },
   "outputs": [
    {
     "output_type": "stream",
     "name": "stdout",
     "text": [
      "Number of valid sample x: 1199\nNumber of valid sample y: 1199\n"
     ]
    }
   ],
   "source": [
    "print(\"Number of valid sample x: {}\".format(len(files)))\n",
    "print(\"Number of valid sample y: {}\".format(len(metadata)))"
   ]
  },
  {
   "cell_type": "markdown",
   "id": "91271116",
   "metadata": {},
   "source": [
    "### Create a Pytorch Dataset"
   ]
  },
  {
   "cell_type": "code",
   "execution_count": 463,
   "id": "e010a4c8",
   "metadata": {},
   "outputs": [],
   "source": [
    "class AudioDataset(Dataset):\n",
    "    \"\"\"Face Landmarks dataset.\"\"\"\n",
    "\n",
    "    def __init__(self, path_prefix, files, y):\n",
    "        \"\"\"\n",
    "        Args:\n",
    "            csv_file (string): Path to the csv file with annotations.\n",
    "            transform (callable, optional): Optional transform to be applied\n",
    "                on a sample.\n",
    "        \"\"\"\n",
    "        self.path_prefix = path_prefix\n",
    "        self.files = files\n",
    "        self.y = y\n",
    "\n",
    "    def __len__(self):\n",
    "        return len(self.y)\n",
    "\n",
    "    def __getitem__(self, idx):\n",
    "        filename = self.files[idx]\n",
    "        filepath = os.path.join(self.path_prefix, filename)\n",
    "        \n",
    "        waveform, sample_rate = AudioProcessor.read(filepath)\n",
    "        \n",
    "        specgram = AudioProcessor.spectro_gram(waveform, sample_rate, n_mels=64, n_fft=1024, hop_len=None)\n",
    "        \n",
    "        y = self.y[self.y[\"Filename\"] == filename.split('.')[0]][\"Label\"].to_numpy()\n",
    "        \n",
    "        sample = {'x': specgram, 'y': y}\n",
    "\n",
    "        return sample"
   ]
  },
  {
   "cell_type": "code",
   "execution_count": 464,
   "metadata": {},
   "outputs": [
    {
     "output_type": "execute_result",
     "data": {
      "text/plain": [
       "Empty DataFrame\n",
       "Columns: [Filename, Label, Remark]\n",
       "Index: []"
      ],
      "text/html": "<div>\n<style scoped>\n    .dataframe tbody tr th:only-of-type {\n        vertical-align: middle;\n    }\n\n    .dataframe tbody tr th {\n        vertical-align: top;\n    }\n\n    .dataframe thead th {\n        text-align: right;\n    }\n</style>\n<table border=\"1\" class=\"dataframe\">\n  <thead>\n    <tr style=\"text-align: right;\">\n      <th></th>\n      <th>Filename</th>\n      <th>Label</th>\n      <th>Remark</th>\n    </tr>\n  </thead>\n  <tbody>\n  </tbody>\n</table>\n</div>"
     },
     "metadata": {},
     "execution_count": 464
    }
   ],
   "source": [
    "metadata[metadata[\"Filename\"] == \"train_01046\"]"
   ]
  },
  {
   "cell_type": "code",
   "execution_count": 466,
   "id": "61648a9e",
   "metadata": {},
   "outputs": [],
   "source": [
    "audio_dataset = AudioDataset(TRAIN_AUDIO_PATH, files, metadata)"
   ]
  },
  {
   "cell_type": "code",
   "execution_count": 467,
   "id": "7cafc930",
   "metadata": {},
   "outputs": [
    {
     "output_type": "execute_result",
     "data": {
      "text/plain": [
       "{'x': tensor([[[-32.2916, -32.2916, -19.6115,  ..., -32.2916, -32.2916, -32.2916],\n",
       "          [-32.2916, -32.2916, -18.8911,  ..., -32.2916, -32.2916, -32.2916],\n",
       "          [-32.2916, -30.4037, -16.0444,  ..., -32.2916, -32.2916, -32.2916],\n",
       "          ...,\n",
       "          [-28.8417,  -8.9955,  -2.5214,  ..., -32.2916, -32.2916, -32.2916],\n",
       "          [-28.3178,  -8.9373,  -3.8161,  ..., -32.2916, -32.2916, -32.2916],\n",
       "          [-32.2916, -14.6754,  -6.4746,  ..., -32.2916, -32.2916, -32.2916]]]),\n",
       " 'y': array([1])}"
      ]
     },
     "metadata": {},
     "execution_count": 467
    }
   ],
   "source": [
    "audio_dataset[500]"
   ]
  },
  {
   "cell_type": "code",
   "execution_count": 468,
   "metadata": {},
   "outputs": [],
   "source": [
    "num_items = len(audio_dataset)\n",
    "num_train = round(num_items * 0.8)\n",
    "num_val = num_items - num_train\n",
    "train_ds, val_ds = random_split(audio_dataset, [num_train, num_val])"
   ]
  },
  {
   "cell_type": "markdown",
   "id": "2d74ce83",
   "metadata": {},
   "source": [
    "### Create a Dataloader"
   ]
  },
  {
   "cell_type": "code",
   "execution_count": 469,
   "metadata": {},
   "outputs": [],
   "source": [
    "train_dataloader = DataLoader(train_ds, batch_size=32,\n",
    "                        shuffle=True, num_workers=0)\n",
    "\n",
    "val_dataloader = DataLoader(val_ds, batch_size=32,\n",
    "                        shuffle=False, num_workers=0)"
   ]
  },
  {
   "cell_type": "code",
   "execution_count": 470,
   "id": "1bbc1a01",
   "metadata": {
    "tags": []
   },
   "outputs": [
    {
     "output_type": "stream",
     "name": "stdout",
     "text": [
      "0 torch.Size([32, 1, 64, 79]) torch.Size([32, 1])\n1 torch.Size([32, 1, 64, 79]) torch.Size([32, 1])\n"
     ]
    }
   ],
   "source": [
    "for i_batch, sample_batched in enumerate(audio_dataloader):\n",
    "    print(i_batch, sample_batched['x'].size(),\n",
    "          sample_batched['y'].size())\n",
    "    if i_batch == 1:\n",
    "        break\n"
   ]
  },
  {
   "cell_type": "code",
   "execution_count": 471,
   "metadata": {},
   "outputs": [
    {
     "output_type": "stream",
     "name": "stdout",
     "text": [
      "Model Input Shape: torch.Size([32, 1, 64, 79])\n"
     ]
    }
   ],
   "source": [
    "print(\"Model Input Shape: {}\".format(sample_batched['x'].size()))"
   ]
  },
  {
   "source": [
    "### Build a CNN Model"
   ],
   "cell_type": "markdown",
   "metadata": {}
  },
  {
   "cell_type": "code",
   "execution_count": 472,
   "metadata": {},
   "outputs": [
    {
     "output_type": "stream",
     "name": "stdout",
     "text": [
      "Using cpu device\n"
     ]
    }
   ],
   "source": [
    "device = 'cuda' if torch.cuda.is_available() else 'cpu'\n",
    "print('Using {} device'.format(device))"
   ]
  },
  {
   "cell_type": "code",
   "execution_count": 473,
   "metadata": {},
   "outputs": [],
   "source": [
    "class AudioClassifier(nn.Module):\n",
    "    def __init__(self, num_class):\n",
    "        super().__init__()\n",
    "        conv_layers = []\n",
    "\n",
    "        # First Convolution Block with Relu and Batch Norm. Use Kaiming Initialization\n",
    "        self.conv1 = nn.Conv2d(1, 8, kernel_size=(5, 5), stride=(2, 2), padding=(2, 2))\n",
    "        self.relu1 = nn.ReLU()\n",
    "        self.bn1 = nn.BatchNorm2d(8)\n",
    "        torch.nn.init.kaiming_normal_(self.conv1.weight, a=0.1)\n",
    "        self.conv1.bias.data.zero_()\n",
    "        conv_layers += [self.conv1, self.relu1, self.bn1]\n",
    "\n",
    "        # Second Convolution Block\n",
    "        self.conv2 = nn.Conv2d(8, 16, kernel_size=(3, 3), stride=(2, 2), padding=(1, 1))\n",
    "        self.relu2 = nn.ReLU()\n",
    "        self.bn2 = nn.BatchNorm2d(16)\n",
    "        torch.nn.init.kaiming_normal_(self.conv2.weight, a=0.1)\n",
    "        self.conv2.bias.data.zero_()\n",
    "        conv_layers += [self.conv2, self.relu2, self.bn2]\n",
    "\n",
    "        # Wrap the Convolutional Blocks\n",
    "        self.conv = nn.Sequential(*conv_layers)\n",
    "        \n",
    "        # Linear Classifier\n",
    "        self.pooling = nn.AdaptiveAvgPool2d(output_size=1)\n",
    "        self.linear = nn.Linear(in_features=16, out_features=num_class)\n",
    "\n",
    "    def forward(self, x):\n",
    "        # Run the convolutional blocks\n",
    "        x = self.conv(x)\n",
    "\n",
    "        # Adaptive pool and flatten for input to linear layer\n",
    "        x = self.pooling(x)\n",
    "        x = x.view(x.shape[0], -1)\n",
    "\n",
    "        # Linear layer\n",
    "        x = self.linear(x)\n",
    "\n",
    "        # Final output\n",
    "        return x"
   ]
  },
  {
   "cell_type": "code",
   "execution_count": 474,
   "id": "17aa4120",
   "metadata": {},
   "outputs": [
    {
     "output_type": "stream",
     "name": "stdout",
     "text": [
      "AudioClassifier(\n  (conv1): Conv2d(1, 8, kernel_size=(5, 5), stride=(2, 2), padding=(2, 2))\n  (relu1): ReLU()\n  (bn1): BatchNorm2d(8, eps=1e-05, momentum=0.1, affine=True, track_running_stats=True)\n  (conv2): Conv2d(8, 16, kernel_size=(3, 3), stride=(2, 2), padding=(1, 1))\n  (relu2): ReLU()\n  (bn2): BatchNorm2d(16, eps=1e-05, momentum=0.1, affine=True, track_running_stats=True)\n  (conv): Sequential(\n    (0): Conv2d(1, 8, kernel_size=(5, 5), stride=(2, 2), padding=(2, 2))\n    (1): ReLU()\n    (2): BatchNorm2d(8, eps=1e-05, momentum=0.1, affine=True, track_running_stats=True)\n    (3): Conv2d(8, 16, kernel_size=(3, 3), stride=(2, 2), padding=(1, 1))\n    (4): ReLU()\n    (5): BatchNorm2d(16, eps=1e-05, momentum=0.1, affine=True, track_running_stats=True)\n  )\n  (pooling): AdaptiveAvgPool2d(output_size=1)\n  (linear): Linear(in_features=16, out_features=6, bias=True)\n)\n"
     ]
    }
   ],
   "source": [
    "# Create the model and put it on the GPU if available\n",
    "model = AudioClassifier(num_class = len(label))\n",
    "device = torch.device(device)\n",
    "model = model.to(device)\n",
    "print(model)"
   ]
  },
  {
   "cell_type": "code",
   "execution_count": 475,
   "id": "105efdcf",
   "metadata": {},
   "outputs": [],
   "source": [
    "def training(train_dataloader, val_dataloader, model, loss_fn, optimizer, num_epochs):\n",
    "    # Loss Function, Optimizer and Scheduler\n",
    "    scheduler = torch.optim.lr_scheduler.OneCycleLR(optimizer, max_lr=0.001,\n",
    "                                                steps_per_epoch=int(len(train_dataloader)),\n",
    "                                                epochs=num_epochs,\n",
    "                                                anneal_strategy='linear')\n",
    "\n",
    "    # Repeat for each epoch\n",
    "    for epoch in range(num_epochs):\n",
    "        running_loss = 0.0\n",
    "        correct_prediction = 0\n",
    "        total_prediction = 0\n",
    "\n",
    "        # Repeat for each batch in the training set\n",
    "        for i, data in enumerate(train_dataloader):\n",
    "            x, y_true = data['x'].to(device), data['y'].to(device).reshape(-1)\n",
    "\n",
    "            # Normalize the inputs\n",
    "            mean, std = x.mean(), x.std()\n",
    "            x = (x - mean) / std\n",
    "\n",
    "            # forward + backward + optimize\n",
    "            outputs = model(x)\n",
    "            loss = loss_fn(outputs, y_true)\n",
    "\n",
    "            # Backpropagation\n",
    "            optimizer.zero_grad()   # Zero the parameter gradients\n",
    "\n",
    "            loss.backward()\n",
    "            optimizer.step()\n",
    "            scheduler.step()\n",
    "\n",
    "            # Keep stats for Loss and Accuracy\n",
    "            running_loss += loss.item()\n",
    "\n",
    "            # Get the predicted class with the highest score\n",
    "            _, y_pred = torch.max(outputs, 1)\n",
    "            # Count of predictions that matched the target label\n",
    "            correct_prediction += (y_pred == y_true).sum().item()\n",
    "            total_prediction += y_pred.shape[0]\n",
    "\n",
    "            if i % 10 == 0:    # print every 10 mini-batches\n",
    "                oh_ytrue = torch.nn.functional.one_hot(y_true)\n",
    "                y_prob = torch.nn.functional.softmax(outputs, dim=1).detach().numpy()\n",
    "                auc = roc_auc_score(oh_ytrue, y_prob, multi_class=\"ovr\")\n",
    "                print(\"Epoch {} Batch {} Result\".format(epoch + 1, i + 1))\n",
    "                print('\\tLoss: %.3f' % (running_loss / (i + 1)))\n",
    "\n",
    "        val_acc, val_avg_loss, val_auc = validation_loop(val_dataloader, model, loss_fn)\n",
    "\n",
    "        # Print stats at the end of the epoch\n",
    "        num_batches = len(train_dataloader)\n",
    "        avg_loss = running_loss / num_batches\n",
    "        acc = correct_prediction/total_prediction\n",
    "        \n",
    "        print(\"Epoch: {}\".format(epoch + 1))\n",
    "        print(\"Train Stats:\")\n",
    "        print(f'\\tLoss: {avg_loss:.2f}, Accuracy: {acc:.2f}')\n",
    "\n",
    "        print(\"Validation Stats:\")\n",
    "        print(f'\\tLoss: {val_avg_loss:.2f}, Accuracy: {val_acc:.2f}, Auc: {val_auc:.2f}')\n",
    "\n",
    "    print('Finished Training')"
   ]
  },
  {
   "cell_type": "code",
   "execution_count": 476,
   "metadata": {},
   "outputs": [],
   "source": [
    "def validation_loop(val_dataloader, model, loss_fn):\n",
    "    size = len(val_dataloader.dataset)\n",
    "\n",
    "    val_loss = 0\n",
    "    correct_prediction = 0\n",
    "    total_prediction = 0\n",
    "    y_true_all = []\n",
    "    y_pred_all = []\n",
    "    y_prob_all = []\n",
    "\n",
    "    with torch.no_grad():\n",
    "        for i, data in enumerate(val_dataloader):\n",
    "            x, y_true = data['x'].to(device), data['y'].to(device).reshape(-1)\n",
    "\n",
    "            # Normalize the inputs\n",
    "            mean, std = x.mean(), x.std()\n",
    "            x = (x - mean) / std\n",
    "\n",
    "            # forward + backward + optimize\n",
    "            outputs = model(x)\n",
    "            y_prob = torch.nn.functional.softmax(outputs, dim=1)\n",
    "\n",
    "            val_loss += loss_fn(outputs, y_true).item()\n",
    "\n",
    "            # Get the predicted class with the highest score\n",
    "            _, y_pred = torch.max(outputs, 1)\n",
    "\n",
    "            # Count of predictions that matched the target label\n",
    "            correct_prediction += (y_pred == y_true).sum().item()\n",
    "            total_prediction += y_pred.shape[0]\n",
    "\n",
    "            y_true_all.append(y_true.cpu())\n",
    "            y_pred_all.append(y_pred.cpu())\n",
    "            y_prob_all.append(y_prob.cpu())\n",
    "\n",
    "    acc = correct_prediction/total_prediction\n",
    "    \n",
    "    # oh_ytrue = torch.nn.functional.one_hot(y_true)\n",
    "    # y_prob = torch.nn.functional.softmax(outputs, dim=1).detach().numpy()\n",
    "    # auc = roc_auc_score(oh_ytrue, y_prob, multi_class=\"ovr\")\n",
    "\n",
    "    # y_prob = torch.nn.functional.softmax(outputs, dim=1)\n",
    "    y_true_all = torch.cat(y_true_all, dim = 0).detach().cpu().numpy()\n",
    "    y_pred_all = torch.cat(y_pred_all, dim = 0).detach().cpu().numpy()\n",
    "    y_prob_all = torch.cat(y_prob_all, dim = 0).detach().cpu().numpy()\n",
    "\n",
    "    auc = roc_auc_score(y_true_all, y_prob_all, multi_class=\"ovr\")\n",
    "\n",
    "    return acc, val_loss / size, auc\n"
   ]
  },
  {
   "cell_type": "code",
   "execution_count": 477,
   "metadata": {
    "tags": []
   },
   "outputs": [
    {
     "output_type": "stream",
     "name": "stdout",
     "text": [
      "Epoch 1 Batch 1 Result\n",
      "\tLoss: 1.812\n",
      "Epoch 1 Batch 11 Result\n",
      "\tLoss: 1.787\n",
      "Epoch 1 Batch 21 Result\n",
      "\tLoss: 1.783\n",
      "Epoch: 1\n",
      "Train Stats:\n",
      "\tLoss: 1.79, Accuracy: 0.16\n",
      "Validation Stats:\n",
      "\tLoss: 0.06, Accuracy: 0.20, Auc: 0.60\n",
      "Epoch 2 Batch 1 Result\n",
      "\tLoss: 1.834\n",
      "Epoch 2 Batch 11 Result\n",
      "\tLoss: 1.767\n",
      "Epoch 2 Batch 21 Result\n",
      "\tLoss: 1.770\n",
      "Epoch: 2\n",
      "Train Stats:\n",
      "\tLoss: 1.76, Accuracy: 0.21\n",
      "Validation Stats:\n",
      "\tLoss: 0.06, Accuracy: 0.25, Auc: 0.66\n",
      "Epoch 3 Batch 1 Result\n",
      "\tLoss: 1.724\n",
      "Epoch 3 Batch 11 Result\n",
      "\tLoss: 1.735\n",
      "Epoch 3 Batch 21 Result\n",
      "\tLoss: 1.725\n",
      "Epoch: 3\n",
      "Train Stats:\n",
      "\tLoss: 1.71, Accuracy: 0.24\n",
      "Validation Stats:\n",
      "\tLoss: 0.06, Accuracy: 0.30, Auc: 0.72\n",
      "Epoch 4 Batch 1 Result\n",
      "\tLoss: 1.676\n",
      "Epoch 4 Batch 11 Result\n",
      "\tLoss: 1.650\n",
      "Epoch 4 Batch 21 Result\n",
      "\tLoss: 1.658\n",
      "Epoch: 4\n",
      "Train Stats:\n",
      "\tLoss: 1.65, Accuracy: 0.30\n",
      "Validation Stats:\n",
      "\tLoss: 0.05, Accuracy: 0.34, Auc: 0.77\n",
      "Epoch 5 Batch 1 Result\n",
      "\tLoss: 1.659\n",
      "Epoch 5 Batch 11 Result\n",
      "\tLoss: 1.617\n",
      "Epoch 5 Batch 21 Result\n",
      "\tLoss: 1.601\n",
      "Epoch: 5\n",
      "Train Stats:\n",
      "\tLoss: 1.58, Accuracy: 0.38\n",
      "Validation Stats:\n",
      "\tLoss: 0.05, Accuracy: 0.39, Auc: 0.81\n",
      "Epoch 6 Batch 1 Result\n",
      "\tLoss: 1.513\n",
      "Epoch 6 Batch 11 Result\n",
      "\tLoss: 1.487\n",
      "Epoch 6 Batch 21 Result\n",
      "\tLoss: 1.491\n",
      "Epoch: 6\n",
      "Train Stats:\n",
      "\tLoss: 1.50, Accuracy: 0.48\n",
      "Validation Stats:\n",
      "\tLoss: 0.05, Accuracy: 0.47, Auc: 0.84\n",
      "Epoch 7 Batch 1 Result\n",
      "\tLoss: 1.360\n",
      "Epoch 7 Batch 11 Result\n",
      "\tLoss: 1.434\n",
      "Epoch 7 Batch 21 Result\n",
      "\tLoss: 1.440\n",
      "Epoch: 7\n",
      "Train Stats:\n",
      "\tLoss: 1.43, Accuracy: 0.52\n",
      "Validation Stats:\n",
      "\tLoss: 0.05, Accuracy: 0.51, Auc: 0.86\n",
      "Epoch 8 Batch 1 Result\n",
      "\tLoss: 1.332\n",
      "Epoch 8 Batch 11 Result\n",
      "\tLoss: 1.403\n",
      "Epoch 8 Batch 21 Result\n",
      "\tLoss: 1.391\n",
      "Epoch: 8\n",
      "Train Stats:\n",
      "\tLoss: 1.38, Accuracy: 0.55\n",
      "Validation Stats:\n",
      "\tLoss: 0.05, Accuracy: 0.53, Auc: 0.86\n",
      "Epoch 9 Batch 1 Result\n",
      "\tLoss: 1.277\n",
      "Epoch 9 Batch 11 Result\n",
      "\tLoss: 1.353\n",
      "Epoch 9 Batch 21 Result\n",
      "\tLoss: 1.334\n",
      "Epoch: 9\n",
      "Train Stats:\n",
      "\tLoss: 1.33, Accuracy: 0.57\n",
      "Validation Stats:\n",
      "\tLoss: 0.04, Accuracy: 0.56, Auc: 0.87\n",
      "Epoch 10 Batch 1 Result\n",
      "\tLoss: 1.311\n",
      "Epoch 10 Batch 11 Result\n",
      "\tLoss: 1.319\n",
      "Epoch 10 Batch 21 Result\n",
      "\tLoss: 1.298\n",
      "Epoch: 10\n",
      "Train Stats:\n",
      "\tLoss: 1.29, Accuracy: 0.59\n",
      "Validation Stats:\n",
      "\tLoss: 0.04, Accuracy: 0.56, Auc: 0.88\n",
      "Epoch 11 Batch 1 Result\n",
      "\tLoss: 1.209\n",
      "Epoch 11 Batch 11 Result\n",
      "\tLoss: 1.305\n",
      "Epoch 11 Batch 21 Result\n",
      "\tLoss: 1.293\n",
      "Epoch: 11\n",
      "Train Stats:\n",
      "\tLoss: 1.27, Accuracy: 0.59\n",
      "Validation Stats:\n",
      "\tLoss: 0.04, Accuracy: 0.56, Auc: 0.88\n",
      "Epoch 12 Batch 1 Result\n",
      "\tLoss: 1.264\n",
      "Epoch 12 Batch 11 Result\n",
      "\tLoss: 1.263\n",
      "Epoch 12 Batch 21 Result\n",
      "\tLoss: 1.255\n",
      "Epoch: 12\n",
      "Train Stats:\n",
      "\tLoss: 1.25, Accuracy: 0.61\n",
      "Validation Stats:\n",
      "\tLoss: 0.04, Accuracy: 0.57, Auc: 0.88\n",
      "Epoch 13 Batch 1 Result\n",
      "\tLoss: 1.224\n",
      "Epoch 13 Batch 11 Result\n",
      "\tLoss: 1.202\n",
      "Epoch 13 Batch 21 Result\n",
      "\tLoss: 1.230\n",
      "Epoch: 13\n",
      "Train Stats:\n",
      "\tLoss: 1.22, Accuracy: 0.64\n",
      "Validation Stats:\n",
      "\tLoss: 0.04, Accuracy: 0.57, Auc: 0.88\n",
      "Epoch 14 Batch 1 Result\n",
      "\tLoss: 1.282\n",
      "Epoch 14 Batch 11 Result\n",
      "\tLoss: 1.232\n",
      "Epoch 14 Batch 21 Result\n",
      "\tLoss: 1.217\n",
      "Epoch: 14\n",
      "Train Stats:\n",
      "\tLoss: 1.22, Accuracy: 0.62\n",
      "Validation Stats:\n",
      "\tLoss: 0.04, Accuracy: 0.56, Auc: 0.88\n",
      "Epoch 15 Batch 1 Result\n",
      "\tLoss: 1.141\n",
      "Epoch 15 Batch 11 Result\n",
      "\tLoss: 1.227\n",
      "Epoch 15 Batch 21 Result\n",
      "\tLoss: 1.225\n",
      "Epoch: 15\n",
      "Train Stats:\n",
      "\tLoss: 1.21, Accuracy: 0.64\n",
      "Validation Stats:\n",
      "\tLoss: 0.04, Accuracy: 0.57, Auc: 0.88\n",
      "Finished Training\n"
     ]
    }
   ],
   "source": [
    "loss_fnc = torch.nn.CrossEntropyLoss()\n",
    "optimizer = torch.optim.Adam(model.parameters(), lr=0.001)\n",
    "num_epochs = 15\n",
    "\n",
    "training(train_dataloader, val_dataloader, model, loss_fnc, optimizer, num_epochs)"
   ]
  },
  {
   "cell_type": "code",
   "execution_count": null,
   "metadata": {},
   "outputs": [],
   "source": [
    "audio_dataloader[37]"
   ]
  },
  {
   "cell_type": "code",
   "execution_count": 175,
   "metadata": {},
   "outputs": [
    {
     "output_type": "stream",
     "name": "stdout",
     "text": [
      "1200\n"
     ]
    }
   ],
   "source": [
    "print(len(audio_dataset))"
   ]
  },
  {
   "cell_type": "code",
   "execution_count": 11,
   "metadata": {},
   "outputs": [
    {
     "output_type": "display_data",
     "data": {
      "text/plain": "<Figure size 432x288 with 1 Axes>",
      "image/svg+xml": "<?xml version=\"1.0\" encoding=\"utf-8\" standalone=\"no\"?>\n<!DOCTYPE svg PUBLIC \"-//W3C//DTD SVG 1.1//EN\"\n  \"http://www.w3.org/Graphics/SVG/1.1/DTD/svg11.dtd\">\n<svg height=\"277.314375pt\" version=\"1.1\" viewBox=\"0 0 392.14375 277.314375\" width=\"392.14375pt\" xmlns=\"http://www.w3.org/2000/svg\" xmlns:xlink=\"http://www.w3.org/1999/xlink\">\n <metadata>\n  <rdf:RDF xmlns:cc=\"http://creativecommons.org/ns#\" xmlns:dc=\"http://purl.org/dc/elements/1.1/\" xmlns:rdf=\"http://www.w3.org/1999/02/22-rdf-syntax-ns#\">\n   <cc:Work>\n    <dc:type rdf:resource=\"http://purl.org/dc/dcmitype/StillImage\"/>\n    <dc:date>2021-05-30T16:43:22.150127</dc:date>\n    <dc:format>image/svg+xml</dc:format>\n    <dc:creator>\n     <cc:Agent>\n      <dc:title>Matplotlib v3.4.2, https://matplotlib.org/</dc:title>\n     </cc:Agent>\n    </dc:creator>\n   </cc:Work>\n  </rdf:RDF>\n </metadata>\n <defs>\n  <style type=\"text/css\">*{stroke-linecap:butt;stroke-linejoin:round;}</style>\n </defs>\n <g id=\"figure_1\">\n  <g id=\"patch_1\">\n   <path d=\"M 0 277.314375 \nL 392.14375 277.314375 \nL 392.14375 0 \nL 0 0 \nz\n\" style=\"fill:none;\"/>\n  </g>\n  <g id=\"axes_1\">\n   <g id=\"patch_2\">\n    <path d=\"M 50.14375 239.758125 \nL 384.94375 239.758125 \nL 384.94375 22.318125 \nL 50.14375 22.318125 \nz\n\" style=\"fill:#ffffff;\"/>\n   </g>\n   <g id=\"matplotlib.axis_1\">\n    <g id=\"xtick_1\">\n     <g id=\"line2d_1\">\n      <defs>\n       <path d=\"M 0 0 \nL 0 3.5 \n\" id=\"m9ce3601179\" style=\"stroke:#000000;stroke-width:0.8;\"/>\n      </defs>\n      <g>\n       <use style=\"stroke:#000000;stroke-width:0.8;\" x=\"65.361932\" xlink:href=\"#m9ce3601179\" y=\"239.758125\"/>\n      </g>\n     </g>\n     <g id=\"text_1\">\n      <!-- 1.0 -->\n      <g transform=\"translate(57.410369 254.356562)scale(0.1 -0.1)\">\n       <defs>\n        <path d=\"M 794 531 \nL 1825 531 \nL 1825 4091 \nL 703 3866 \nL 703 4441 \nL 1819 4666 \nL 2450 4666 \nL 2450 531 \nL 3481 531 \nL 3481 0 \nL 794 0 \nL 794 531 \nz\n\" id=\"DejaVuSans-31\" transform=\"scale(0.015625)\"/>\n        <path d=\"M 684 794 \nL 1344 794 \nL 1344 0 \nL 684 0 \nL 684 794 \nz\n\" id=\"DejaVuSans-2e\" transform=\"scale(0.015625)\"/>\n        <path d=\"M 2034 4250 \nQ 1547 4250 1301 3770 \nQ 1056 3291 1056 2328 \nQ 1056 1369 1301 889 \nQ 1547 409 2034 409 \nQ 2525 409 2770 889 \nQ 3016 1369 3016 2328 \nQ 3016 3291 2770 3770 \nQ 2525 4250 2034 4250 \nz\nM 2034 4750 \nQ 2819 4750 3233 4129 \nQ 3647 3509 3647 2328 \nQ 3647 1150 3233 529 \nQ 2819 -91 2034 -91 \nQ 1250 -91 836 529 \nQ 422 1150 422 2328 \nQ 422 3509 836 4129 \nQ 1250 4750 2034 4750 \nz\n\" id=\"DejaVuSans-30\" transform=\"scale(0.015625)\"/>\n       </defs>\n       <use xlink:href=\"#DejaVuSans-31\"/>\n       <use x=\"63.623047\" xlink:href=\"#DejaVuSans-2e\"/>\n       <use x=\"95.410156\" xlink:href=\"#DejaVuSans-30\"/>\n      </g>\n     </g>\n    </g>\n    <g id=\"xtick_2\">\n     <g id=\"line2d_2\">\n      <g>\n       <use style=\"stroke:#000000;stroke-width:0.8;\" x=\"116.089205\" xlink:href=\"#m9ce3601179\" y=\"239.758125\"/>\n      </g>\n     </g>\n     <g id=\"text_2\">\n      <!-- 1.5 -->\n      <g transform=\"translate(108.137642 254.356562)scale(0.1 -0.1)\">\n       <defs>\n        <path d=\"M 691 4666 \nL 3169 4666 \nL 3169 4134 \nL 1269 4134 \nL 1269 2991 \nQ 1406 3038 1543 3061 \nQ 1681 3084 1819 3084 \nQ 2600 3084 3056 2656 \nQ 3513 2228 3513 1497 \nQ 3513 744 3044 326 \nQ 2575 -91 1722 -91 \nQ 1428 -91 1123 -41 \nQ 819 9 494 109 \nL 494 744 \nQ 775 591 1075 516 \nQ 1375 441 1709 441 \nQ 2250 441 2565 725 \nQ 2881 1009 2881 1497 \nQ 2881 1984 2565 2268 \nQ 2250 2553 1709 2553 \nQ 1456 2553 1204 2497 \nQ 953 2441 691 2322 \nL 691 4666 \nz\n\" id=\"DejaVuSans-35\" transform=\"scale(0.015625)\"/>\n       </defs>\n       <use xlink:href=\"#DejaVuSans-31\"/>\n       <use x=\"63.623047\" xlink:href=\"#DejaVuSans-2e\"/>\n       <use x=\"95.410156\" xlink:href=\"#DejaVuSans-35\"/>\n      </g>\n     </g>\n    </g>\n    <g id=\"xtick_3\">\n     <g id=\"line2d_3\">\n      <g>\n       <use style=\"stroke:#000000;stroke-width:0.8;\" x=\"166.816477\" xlink:href=\"#m9ce3601179\" y=\"239.758125\"/>\n      </g>\n     </g>\n     <g id=\"text_3\">\n      <!-- 2.0 -->\n      <g transform=\"translate(158.864915 254.356562)scale(0.1 -0.1)\">\n       <defs>\n        <path d=\"M 1228 531 \nL 3431 531 \nL 3431 0 \nL 469 0 \nL 469 531 \nQ 828 903 1448 1529 \nQ 2069 2156 2228 2338 \nQ 2531 2678 2651 2914 \nQ 2772 3150 2772 3378 \nQ 2772 3750 2511 3984 \nQ 2250 4219 1831 4219 \nQ 1534 4219 1204 4116 \nQ 875 4013 500 3803 \nL 500 4441 \nQ 881 4594 1212 4672 \nQ 1544 4750 1819 4750 \nQ 2544 4750 2975 4387 \nQ 3406 4025 3406 3419 \nQ 3406 3131 3298 2873 \nQ 3191 2616 2906 2266 \nQ 2828 2175 2409 1742 \nQ 1991 1309 1228 531 \nz\n\" id=\"DejaVuSans-32\" transform=\"scale(0.015625)\"/>\n       </defs>\n       <use xlink:href=\"#DejaVuSans-32\"/>\n       <use x=\"63.623047\" xlink:href=\"#DejaVuSans-2e\"/>\n       <use x=\"95.410156\" xlink:href=\"#DejaVuSans-30\"/>\n      </g>\n     </g>\n    </g>\n    <g id=\"xtick_4\">\n     <g id=\"line2d_4\">\n      <g>\n       <use style=\"stroke:#000000;stroke-width:0.8;\" x=\"217.54375\" xlink:href=\"#m9ce3601179\" y=\"239.758125\"/>\n      </g>\n     </g>\n     <g id=\"text_4\">\n      <!-- 2.5 -->\n      <g transform=\"translate(209.592187 254.356562)scale(0.1 -0.1)\">\n       <use xlink:href=\"#DejaVuSans-32\"/>\n       <use x=\"63.623047\" xlink:href=\"#DejaVuSans-2e\"/>\n       <use x=\"95.410156\" xlink:href=\"#DejaVuSans-35\"/>\n      </g>\n     </g>\n    </g>\n    <g id=\"xtick_5\">\n     <g id=\"line2d_5\">\n      <g>\n       <use style=\"stroke:#000000;stroke-width:0.8;\" x=\"268.271023\" xlink:href=\"#m9ce3601179\" y=\"239.758125\"/>\n      </g>\n     </g>\n     <g id=\"text_5\">\n      <!-- 3.0 -->\n      <g transform=\"translate(260.31946 254.356562)scale(0.1 -0.1)\">\n       <defs>\n        <path d=\"M 2597 2516 \nQ 3050 2419 3304 2112 \nQ 3559 1806 3559 1356 \nQ 3559 666 3084 287 \nQ 2609 -91 1734 -91 \nQ 1441 -91 1130 -33 \nQ 819 25 488 141 \nL 488 750 \nQ 750 597 1062 519 \nQ 1375 441 1716 441 \nQ 2309 441 2620 675 \nQ 2931 909 2931 1356 \nQ 2931 1769 2642 2001 \nQ 2353 2234 1838 2234 \nL 1294 2234 \nL 1294 2753 \nL 1863 2753 \nQ 2328 2753 2575 2939 \nQ 2822 3125 2822 3475 \nQ 2822 3834 2567 4026 \nQ 2313 4219 1838 4219 \nQ 1578 4219 1281 4162 \nQ 984 4106 628 3988 \nL 628 4550 \nQ 988 4650 1302 4700 \nQ 1616 4750 1894 4750 \nQ 2613 4750 3031 4423 \nQ 3450 4097 3450 3541 \nQ 3450 3153 3228 2886 \nQ 3006 2619 2597 2516 \nz\n\" id=\"DejaVuSans-33\" transform=\"scale(0.015625)\"/>\n       </defs>\n       <use xlink:href=\"#DejaVuSans-33\"/>\n       <use x=\"63.623047\" xlink:href=\"#DejaVuSans-2e\"/>\n       <use x=\"95.410156\" xlink:href=\"#DejaVuSans-30\"/>\n      </g>\n     </g>\n    </g>\n    <g id=\"xtick_6\">\n     <g id=\"line2d_6\">\n      <g>\n       <use style=\"stroke:#000000;stroke-width:0.8;\" x=\"318.998295\" xlink:href=\"#m9ce3601179\" y=\"239.758125\"/>\n      </g>\n     </g>\n     <g id=\"text_6\">\n      <!-- 3.5 -->\n      <g transform=\"translate(311.046733 254.356562)scale(0.1 -0.1)\">\n       <use xlink:href=\"#DejaVuSans-33\"/>\n       <use x=\"63.623047\" xlink:href=\"#DejaVuSans-2e\"/>\n       <use x=\"95.410156\" xlink:href=\"#DejaVuSans-35\"/>\n      </g>\n     </g>\n    </g>\n    <g id=\"xtick_7\">\n     <g id=\"line2d_7\">\n      <g>\n       <use style=\"stroke:#000000;stroke-width:0.8;\" x=\"369.725568\" xlink:href=\"#m9ce3601179\" y=\"239.758125\"/>\n      </g>\n     </g>\n     <g id=\"text_7\">\n      <!-- 4.0 -->\n      <g transform=\"translate(361.774006 254.356562)scale(0.1 -0.1)\">\n       <defs>\n        <path d=\"M 2419 4116 \nL 825 1625 \nL 2419 1625 \nL 2419 4116 \nz\nM 2253 4666 \nL 3047 4666 \nL 3047 1625 \nL 3713 1625 \nL 3713 1100 \nL 3047 1100 \nL 3047 0 \nL 2419 0 \nL 2419 1100 \nL 313 1100 \nL 313 1709 \nL 2253 4666 \nz\n\" id=\"DejaVuSans-34\" transform=\"scale(0.015625)\"/>\n       </defs>\n       <use xlink:href=\"#DejaVuSans-34\"/>\n       <use x=\"63.623047\" xlink:href=\"#DejaVuSans-2e\"/>\n       <use x=\"95.410156\" xlink:href=\"#DejaVuSans-30\"/>\n      </g>\n     </g>\n    </g>\n    <g id=\"text_8\">\n     <!-- epochs -->\n     <g transform=\"translate(199.710938 268.034687)scale(0.1 -0.1)\">\n      <defs>\n       <path d=\"M 3597 1894 \nL 3597 1613 \nL 953 1613 \nQ 991 1019 1311 708 \nQ 1631 397 2203 397 \nQ 2534 397 2845 478 \nQ 3156 559 3463 722 \nL 3463 178 \nQ 3153 47 2828 -22 \nQ 2503 -91 2169 -91 \nQ 1331 -91 842 396 \nQ 353 884 353 1716 \nQ 353 2575 817 3079 \nQ 1281 3584 2069 3584 \nQ 2775 3584 3186 3129 \nQ 3597 2675 3597 1894 \nz\nM 3022 2063 \nQ 3016 2534 2758 2815 \nQ 2500 3097 2075 3097 \nQ 1594 3097 1305 2825 \nQ 1016 2553 972 2059 \nL 3022 2063 \nz\n\" id=\"DejaVuSans-65\" transform=\"scale(0.015625)\"/>\n       <path d=\"M 1159 525 \nL 1159 -1331 \nL 581 -1331 \nL 581 3500 \nL 1159 3500 \nL 1159 2969 \nQ 1341 3281 1617 3432 \nQ 1894 3584 2278 3584 \nQ 2916 3584 3314 3078 \nQ 3713 2572 3713 1747 \nQ 3713 922 3314 415 \nQ 2916 -91 2278 -91 \nQ 1894 -91 1617 61 \nQ 1341 213 1159 525 \nz\nM 3116 1747 \nQ 3116 2381 2855 2742 \nQ 2594 3103 2138 3103 \nQ 1681 3103 1420 2742 \nQ 1159 2381 1159 1747 \nQ 1159 1113 1420 752 \nQ 1681 391 2138 391 \nQ 2594 391 2855 752 \nQ 3116 1113 3116 1747 \nz\n\" id=\"DejaVuSans-70\" transform=\"scale(0.015625)\"/>\n       <path d=\"M 1959 3097 \nQ 1497 3097 1228 2736 \nQ 959 2375 959 1747 \nQ 959 1119 1226 758 \nQ 1494 397 1959 397 \nQ 2419 397 2687 759 \nQ 2956 1122 2956 1747 \nQ 2956 2369 2687 2733 \nQ 2419 3097 1959 3097 \nz\nM 1959 3584 \nQ 2709 3584 3137 3096 \nQ 3566 2609 3566 1747 \nQ 3566 888 3137 398 \nQ 2709 -91 1959 -91 \nQ 1206 -91 779 398 \nQ 353 888 353 1747 \nQ 353 2609 779 3096 \nQ 1206 3584 1959 3584 \nz\n\" id=\"DejaVuSans-6f\" transform=\"scale(0.015625)\"/>\n       <path d=\"M 3122 3366 \nL 3122 2828 \nQ 2878 2963 2633 3030 \nQ 2388 3097 2138 3097 \nQ 1578 3097 1268 2742 \nQ 959 2388 959 1747 \nQ 959 1106 1268 751 \nQ 1578 397 2138 397 \nQ 2388 397 2633 464 \nQ 2878 531 3122 666 \nL 3122 134 \nQ 2881 22 2623 -34 \nQ 2366 -91 2075 -91 \nQ 1284 -91 818 406 \nQ 353 903 353 1747 \nQ 353 2603 823 3093 \nQ 1294 3584 2113 3584 \nQ 2378 3584 2631 3529 \nQ 2884 3475 3122 3366 \nz\n\" id=\"DejaVuSans-63\" transform=\"scale(0.015625)\"/>\n       <path d=\"M 3513 2113 \nL 3513 0 \nL 2938 0 \nL 2938 2094 \nQ 2938 2591 2744 2837 \nQ 2550 3084 2163 3084 \nQ 1697 3084 1428 2787 \nQ 1159 2491 1159 1978 \nL 1159 0 \nL 581 0 \nL 581 4863 \nL 1159 4863 \nL 1159 2956 \nQ 1366 3272 1645 3428 \nQ 1925 3584 2291 3584 \nQ 2894 3584 3203 3211 \nQ 3513 2838 3513 2113 \nz\n\" id=\"DejaVuSans-68\" transform=\"scale(0.015625)\"/>\n       <path d=\"M 2834 3397 \nL 2834 2853 \nQ 2591 2978 2328 3040 \nQ 2066 3103 1784 3103 \nQ 1356 3103 1142 2972 \nQ 928 2841 928 2578 \nQ 928 2378 1081 2264 \nQ 1234 2150 1697 2047 \nL 1894 2003 \nQ 2506 1872 2764 1633 \nQ 3022 1394 3022 966 \nQ 3022 478 2636 193 \nQ 2250 -91 1575 -91 \nQ 1294 -91 989 -36 \nQ 684 19 347 128 \nL 347 722 \nQ 666 556 975 473 \nQ 1284 391 1588 391 \nQ 1994 391 2212 530 \nQ 2431 669 2431 922 \nQ 2431 1156 2273 1281 \nQ 2116 1406 1581 1522 \nL 1381 1569 \nQ 847 1681 609 1914 \nQ 372 2147 372 2553 \nQ 372 3047 722 3315 \nQ 1072 3584 1716 3584 \nQ 2034 3584 2315 3537 \nQ 2597 3491 2834 3397 \nz\n\" id=\"DejaVuSans-73\" transform=\"scale(0.015625)\"/>\n      </defs>\n      <use xlink:href=\"#DejaVuSans-65\"/>\n      <use x=\"61.523438\" xlink:href=\"#DejaVuSans-70\"/>\n      <use x=\"125\" xlink:href=\"#DejaVuSans-6f\"/>\n      <use x=\"186.181641\" xlink:href=\"#DejaVuSans-63\"/>\n      <use x=\"241.162109\" xlink:href=\"#DejaVuSans-68\"/>\n      <use x=\"304.541016\" xlink:href=\"#DejaVuSans-73\"/>\n     </g>\n    </g>\n   </g>\n   <g id=\"matplotlib.axis_2\">\n    <g id=\"ytick_1\">\n     <g id=\"line2d_8\">\n      <defs>\n       <path d=\"M 0 0 \nL -3.5 0 \n\" id=\"m6b5c0c4b80\" style=\"stroke:#000000;stroke-width:0.8;\"/>\n      </defs>\n      <g>\n       <use style=\"stroke:#000000;stroke-width:0.8;\" x=\"50.14375\" xlink:href=\"#m6b5c0c4b80\" y=\"229.874489\"/>\n      </g>\n     </g>\n     <g id=\"text_9\">\n      <!-- 1.00 -->\n      <g transform=\"translate(20.878125 233.673707)scale(0.1 -0.1)\">\n       <use xlink:href=\"#DejaVuSans-31\"/>\n       <use x=\"63.623047\" xlink:href=\"#DejaVuSans-2e\"/>\n       <use x=\"95.410156\" xlink:href=\"#DejaVuSans-30\"/>\n       <use x=\"159.033203\" xlink:href=\"#DejaVuSans-30\"/>\n      </g>\n     </g>\n    </g>\n    <g id=\"ytick_2\">\n     <g id=\"line2d_9\">\n      <g>\n       <use style=\"stroke:#000000;stroke-width:0.8;\" x=\"50.14375\" xlink:href=\"#m6b5c0c4b80\" y=\"205.165398\"/>\n      </g>\n     </g>\n     <g id=\"text_10\">\n      <!-- 1.25 -->\n      <g transform=\"translate(20.878125 208.964616)scale(0.1 -0.1)\">\n       <use xlink:href=\"#DejaVuSans-31\"/>\n       <use x=\"63.623047\" xlink:href=\"#DejaVuSans-2e\"/>\n       <use x=\"95.410156\" xlink:href=\"#DejaVuSans-32\"/>\n       <use x=\"159.033203\" xlink:href=\"#DejaVuSans-35\"/>\n      </g>\n     </g>\n    </g>\n    <g id=\"ytick_3\">\n     <g id=\"line2d_10\">\n      <g>\n       <use style=\"stroke:#000000;stroke-width:0.8;\" x=\"50.14375\" xlink:href=\"#m6b5c0c4b80\" y=\"180.456307\"/>\n      </g>\n     </g>\n     <g id=\"text_11\">\n      <!-- 1.50 -->\n      <g transform=\"translate(20.878125 184.255526)scale(0.1 -0.1)\">\n       <use xlink:href=\"#DejaVuSans-31\"/>\n       <use x=\"63.623047\" xlink:href=\"#DejaVuSans-2e\"/>\n       <use x=\"95.410156\" xlink:href=\"#DejaVuSans-35\"/>\n       <use x=\"159.033203\" xlink:href=\"#DejaVuSans-30\"/>\n      </g>\n     </g>\n    </g>\n    <g id=\"ytick_4\">\n     <g id=\"line2d_11\">\n      <g>\n       <use style=\"stroke:#000000;stroke-width:0.8;\" x=\"50.14375\" xlink:href=\"#m6b5c0c4b80\" y=\"155.747216\"/>\n      </g>\n     </g>\n     <g id=\"text_12\">\n      <!-- 1.75 -->\n      <g transform=\"translate(20.878125 159.546435)scale(0.1 -0.1)\">\n       <defs>\n        <path d=\"M 525 4666 \nL 3525 4666 \nL 3525 4397 \nL 1831 0 \nL 1172 0 \nL 2766 4134 \nL 525 4134 \nL 525 4666 \nz\n\" id=\"DejaVuSans-37\" transform=\"scale(0.015625)\"/>\n       </defs>\n       <use xlink:href=\"#DejaVuSans-31\"/>\n       <use x=\"63.623047\" xlink:href=\"#DejaVuSans-2e\"/>\n       <use x=\"95.410156\" xlink:href=\"#DejaVuSans-37\"/>\n       <use x=\"159.033203\" xlink:href=\"#DejaVuSans-35\"/>\n      </g>\n     </g>\n    </g>\n    <g id=\"ytick_5\">\n     <g id=\"line2d_12\">\n      <g>\n       <use style=\"stroke:#000000;stroke-width:0.8;\" x=\"50.14375\" xlink:href=\"#m6b5c0c4b80\" y=\"131.038125\"/>\n      </g>\n     </g>\n     <g id=\"text_13\">\n      <!-- 2.00 -->\n      <g transform=\"translate(20.878125 134.837344)scale(0.1 -0.1)\">\n       <use xlink:href=\"#DejaVuSans-32\"/>\n       <use x=\"63.623047\" xlink:href=\"#DejaVuSans-2e\"/>\n       <use x=\"95.410156\" xlink:href=\"#DejaVuSans-30\"/>\n       <use x=\"159.033203\" xlink:href=\"#DejaVuSans-30\"/>\n      </g>\n     </g>\n    </g>\n    <g id=\"ytick_6\">\n     <g id=\"line2d_13\">\n      <g>\n       <use style=\"stroke:#000000;stroke-width:0.8;\" x=\"50.14375\" xlink:href=\"#m6b5c0c4b80\" y=\"106.329034\"/>\n      </g>\n     </g>\n     <g id=\"text_14\">\n      <!-- 2.25 -->\n      <g transform=\"translate(20.878125 110.128253)scale(0.1 -0.1)\">\n       <use xlink:href=\"#DejaVuSans-32\"/>\n       <use x=\"63.623047\" xlink:href=\"#DejaVuSans-2e\"/>\n       <use x=\"95.410156\" xlink:href=\"#DejaVuSans-32\"/>\n       <use x=\"159.033203\" xlink:href=\"#DejaVuSans-35\"/>\n      </g>\n     </g>\n    </g>\n    <g id=\"ytick_7\">\n     <g id=\"line2d_14\">\n      <g>\n       <use style=\"stroke:#000000;stroke-width:0.8;\" x=\"50.14375\" xlink:href=\"#m6b5c0c4b80\" y=\"81.619943\"/>\n      </g>\n     </g>\n     <g id=\"text_15\">\n      <!-- 2.50 -->\n      <g transform=\"translate(20.878125 85.419162)scale(0.1 -0.1)\">\n       <use xlink:href=\"#DejaVuSans-32\"/>\n       <use x=\"63.623047\" xlink:href=\"#DejaVuSans-2e\"/>\n       <use x=\"95.410156\" xlink:href=\"#DejaVuSans-35\"/>\n       <use x=\"159.033203\" xlink:href=\"#DejaVuSans-30\"/>\n      </g>\n     </g>\n    </g>\n    <g id=\"ytick_8\">\n     <g id=\"line2d_15\">\n      <g>\n       <use style=\"stroke:#000000;stroke-width:0.8;\" x=\"50.14375\" xlink:href=\"#m6b5c0c4b80\" y=\"56.910852\"/>\n      </g>\n     </g>\n     <g id=\"text_16\">\n      <!-- 2.75 -->\n      <g transform=\"translate(20.878125 60.710071)scale(0.1 -0.1)\">\n       <use xlink:href=\"#DejaVuSans-32\"/>\n       <use x=\"63.623047\" xlink:href=\"#DejaVuSans-2e\"/>\n       <use x=\"95.410156\" xlink:href=\"#DejaVuSans-37\"/>\n       <use x=\"159.033203\" xlink:href=\"#DejaVuSans-35\"/>\n      </g>\n     </g>\n    </g>\n    <g id=\"ytick_9\">\n     <g id=\"line2d_16\">\n      <g>\n       <use style=\"stroke:#000000;stroke-width:0.8;\" x=\"50.14375\" xlink:href=\"#m6b5c0c4b80\" y=\"32.201761\"/>\n      </g>\n     </g>\n     <g id=\"text_17\">\n      <!-- 3.00 -->\n      <g transform=\"translate(20.878125 36.00098)scale(0.1 -0.1)\">\n       <use xlink:href=\"#DejaVuSans-33\"/>\n       <use x=\"63.623047\" xlink:href=\"#DejaVuSans-2e\"/>\n       <use x=\"95.410156\" xlink:href=\"#DejaVuSans-30\"/>\n       <use x=\"159.033203\" xlink:href=\"#DejaVuSans-30\"/>\n      </g>\n     </g>\n    </g>\n    <g id=\"text_18\">\n     <!-- val -->\n     <g transform=\"translate(14.798438 138.450625)rotate(-90)scale(0.1 -0.1)\">\n      <defs>\n       <path d=\"M 191 3500 \nL 800 3500 \nL 1894 563 \nL 2988 3500 \nL 3597 3500 \nL 2284 0 \nL 1503 0 \nL 191 3500 \nz\n\" id=\"DejaVuSans-76\" transform=\"scale(0.015625)\"/>\n       <path d=\"M 2194 1759 \nQ 1497 1759 1228 1600 \nQ 959 1441 959 1056 \nQ 959 750 1161 570 \nQ 1363 391 1709 391 \nQ 2188 391 2477 730 \nQ 2766 1069 2766 1631 \nL 2766 1759 \nL 2194 1759 \nz\nM 3341 1997 \nL 3341 0 \nL 2766 0 \nL 2766 531 \nQ 2569 213 2275 61 \nQ 1981 -91 1556 -91 \nQ 1019 -91 701 211 \nQ 384 513 384 1019 \nQ 384 1609 779 1909 \nQ 1175 2209 1959 2209 \nL 2766 2209 \nL 2766 2266 \nQ 2766 2663 2505 2880 \nQ 2244 3097 1772 3097 \nQ 1472 3097 1187 3025 \nQ 903 2953 641 2809 \nL 641 3341 \nQ 956 3463 1253 3523 \nQ 1550 3584 1831 3584 \nQ 2591 3584 2966 3190 \nQ 3341 2797 3341 1997 \nz\n\" id=\"DejaVuSans-61\" transform=\"scale(0.015625)\"/>\n       <path d=\"M 603 4863 \nL 1178 4863 \nL 1178 0 \nL 603 0 \nL 603 4863 \nz\n\" id=\"DejaVuSans-6c\" transform=\"scale(0.015625)\"/>\n      </defs>\n      <use xlink:href=\"#DejaVuSans-76\"/>\n      <use x=\"59.179688\" xlink:href=\"#DejaVuSans-61\"/>\n      <use x=\"120.458984\" xlink:href=\"#DejaVuSans-6c\"/>\n     </g>\n    </g>\n   </g>\n   <g id=\"line2d_17\">\n    <path clip-path=\"url(#pc25378c932)\" d=\"M 65.361932 229.874489 \nL 166.816477 131.038125 \nL 268.271023 32.201761 \nL 369.725568 131.038125 \n\" style=\"fill:none;stroke:#1f77b4;stroke-linecap:square;stroke-width:1.5;\"/>\n   </g>\n   <g id=\"patch_3\">\n    <path d=\"M 50.14375 239.758125 \nL 50.14375 22.318125 \n\" style=\"fill:none;stroke:#000000;stroke-linecap:square;stroke-linejoin:miter;stroke-width:0.8;\"/>\n   </g>\n   <g id=\"patch_4\">\n    <path d=\"M 384.94375 239.758125 \nL 384.94375 22.318125 \n\" style=\"fill:none;stroke:#000000;stroke-linecap:square;stroke-linejoin:miter;stroke-width:0.8;\"/>\n   </g>\n   <g id=\"patch_5\">\n    <path d=\"M 50.14375 239.758125 \nL 384.94375 239.758125 \n\" style=\"fill:none;stroke:#000000;stroke-linecap:square;stroke-linejoin:miter;stroke-width:0.8;\"/>\n   </g>\n   <g id=\"patch_6\">\n    <path d=\"M 50.14375 22.318125 \nL 384.94375 22.318125 \n\" style=\"fill:none;stroke:#000000;stroke-linecap:square;stroke-linejoin:miter;stroke-width:0.8;\"/>\n   </g>\n   <g id=\"text_19\">\n    <!-- train loss -->\n    <g transform=\"translate(190.0825 16.318125)scale(0.12 -0.12)\">\n     <defs>\n      <path d=\"M 1172 4494 \nL 1172 3500 \nL 2356 3500 \nL 2356 3053 \nL 1172 3053 \nL 1172 1153 \nQ 1172 725 1289 603 \nQ 1406 481 1766 481 \nL 2356 481 \nL 2356 0 \nL 1766 0 \nQ 1100 0 847 248 \nQ 594 497 594 1153 \nL 594 3053 \nL 172 3053 \nL 172 3500 \nL 594 3500 \nL 594 4494 \nL 1172 4494 \nz\n\" id=\"DejaVuSans-74\" transform=\"scale(0.015625)\"/>\n      <path d=\"M 2631 2963 \nQ 2534 3019 2420 3045 \nQ 2306 3072 2169 3072 \nQ 1681 3072 1420 2755 \nQ 1159 2438 1159 1844 \nL 1159 0 \nL 581 0 \nL 581 3500 \nL 1159 3500 \nL 1159 2956 \nQ 1341 3275 1631 3429 \nQ 1922 3584 2338 3584 \nQ 2397 3584 2469 3576 \nQ 2541 3569 2628 3553 \nL 2631 2963 \nz\n\" id=\"DejaVuSans-72\" transform=\"scale(0.015625)\"/>\n      <path d=\"M 603 3500 \nL 1178 3500 \nL 1178 0 \nL 603 0 \nL 603 3500 \nz\nM 603 4863 \nL 1178 4863 \nL 1178 4134 \nL 603 4134 \nL 603 4863 \nz\n\" id=\"DejaVuSans-69\" transform=\"scale(0.015625)\"/>\n      <path d=\"M 3513 2113 \nL 3513 0 \nL 2938 0 \nL 2938 2094 \nQ 2938 2591 2744 2837 \nQ 2550 3084 2163 3084 \nQ 1697 3084 1428 2787 \nQ 1159 2491 1159 1978 \nL 1159 0 \nL 581 0 \nL 581 3500 \nL 1159 3500 \nL 1159 2956 \nQ 1366 3272 1645 3428 \nQ 1925 3584 2291 3584 \nQ 2894 3584 3203 3211 \nQ 3513 2838 3513 2113 \nz\n\" id=\"DejaVuSans-6e\" transform=\"scale(0.015625)\"/>\n      <path id=\"DejaVuSans-20\" transform=\"scale(0.015625)\"/>\n     </defs>\n     <use xlink:href=\"#DejaVuSans-74\"/>\n     <use x=\"39.208984\" xlink:href=\"#DejaVuSans-72\"/>\n     <use x=\"80.322266\" xlink:href=\"#DejaVuSans-61\"/>\n     <use x=\"141.601562\" xlink:href=\"#DejaVuSans-69\"/>\n     <use x=\"169.384766\" xlink:href=\"#DejaVuSans-6e\"/>\n     <use x=\"232.763672\" xlink:href=\"#DejaVuSans-20\"/>\n     <use x=\"264.550781\" xlink:href=\"#DejaVuSans-6c\"/>\n     <use x=\"292.333984\" xlink:href=\"#DejaVuSans-6f\"/>\n     <use x=\"353.515625\" xlink:href=\"#DejaVuSans-73\"/>\n     <use x=\"405.615234\" xlink:href=\"#DejaVuSans-73\"/>\n    </g>\n   </g>\n  </g>\n </g>\n <defs>\n  <clipPath id=\"pc25378c932\">\n   <rect height=\"217.44\" width=\"334.8\" x=\"50.14375\" y=\"22.318125\"/>\n  </clipPath>\n </defs>\n</svg>\n",
      "image/png": "[encoded data removed]"
     },
     "metadata": {
      "needs_background": "light"
     }
    }
   ],
   "source": [
    "plt.plot(np.arange(1, 5), [1, 2, 3, 2])\n",
    "plt.title(\"train loss\")\n",
    "plt.xlabel(\"epochs\")\n",
    "plt.ylabel(\"val\")\n",
    "# plt.savefig(\"temp.jpg\")\n",
    "plt.show()"
   ]
  },
  {
   "cell_type": "code",
   "execution_count": null,
   "metadata": {},
   "outputs": [],
   "source": []
  }
 ],
 "metadata": {
  "kernelspec": {
   "name": "python394jvsc74a57bd0aee8b7b246df8f9039afb4144a1f6fd8d2ca17a180786b69acc140d282b71a49",
   "display_name": "Python 3.9.4 64-bit"
  },
  "language_info": {
   "codemirror_mode": {
    "name": "ipython",
    "version": 3
   },
   "file_extension": ".py",
   "mimetype": "text/x-python",
   "name": "python",
   "nbconvert_exporter": "python",
   "pygments_lexer": "ipython3",
   "version": "3.9.4"
  }
 },
 "nbformat": 4,
 "nbformat_minor": 5
}